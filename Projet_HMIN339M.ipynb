{
  "nbformat": 4,
  "nbformat_minor": 0,
  "metadata": {
    "colab": {
      "name": "Projet_HMIN339M.ipynb",
      "provenance": [],
      "collapsed_sections": [
        "YDQUbh3Nkpn7",
        "hNFyNkc5oc6z",
        "6J609q3BrKRk",
        "3U6m2R-UwEFK",
        "lAt4KCeZR1Os",
        "YqabJEyUtgPX"
      ]
    },
    "kernelspec": {
      "display_name": "Python 3",
      "name": "python3"
    }
  },
  "cells": [
    {
      "cell_type": "markdown",
      "metadata": {
        "id": "_pJr2QX16y0C"
      },
      "source": [
        "# **Préparer les données**"
      ]
    },
    {
      "cell_type": "markdown",
      "metadata": {
        "id": "vI65qFkLjyEY"
      },
      "source": [
        "### **Monter le dossier dans Drive**"
      ]
    },
    {
      "cell_type": "code",
      "metadata": {
        "id": "DVb5j_uZDvRs",
        "colab": {
          "base_uri": "https://localhost:8080/"
        },
        "outputId": "6abcb05d-85e3-4369-84db-63c79d16c624"
      },
      "source": [
        "from google.colab import drive\n",
        "drive.mount('/content/drive')"
      ],
      "execution_count": 1,
      "outputs": [
        {
          "output_type": "stream",
          "text": [
            "Mounted at /content/drive\n"
          ],
          "name": "stdout"
        }
      ]
    },
    {
      "cell_type": "code",
      "metadata": {
        "id": "9DcknGEsEkrE"
      },
      "source": [
        "import os\n",
        "os.chdir('/content/drive/My Drive/Fac/M2-AIGLE/Projet_HMIN339M')"
      ],
      "execution_count": 2,
      "outputs": []
    },
    {
      "cell_type": "markdown",
      "metadata": {
        "id": "uEIWGiCq_s3g"
      },
      "source": [
        "### **Importation de quelques librairies**"
      ]
    },
    {
      "cell_type": "code",
      "metadata": {
        "id": "0HzSSHr5ooul"
      },
      "source": [
        "import numpy as np\n",
        "import tifffile\n",
        "import glob\n",
        "from pathlib import Path\n",
        "import pandas as pd"
      ],
      "execution_count": 3,
      "outputs": []
    },
    {
      "cell_type": "markdown",
      "metadata": {
        "id": "wVrWVyvfkBDD"
      },
      "source": [
        "### **Lecture de la série temporelle d'images et Normalisation par bande sur la série temporelle entre 0 et 1** "
      ]
    },
    {
      "cell_type": "markdown",
      "metadata": {
        "id": "95CB2_IllQFu"
      },
      "source": [
        "#### **Lecture des images et création des séries temporelles de bandes**"
      ]
    },
    {
      "cell_type": "code",
      "metadata": {
        "id": "Ut67k4u3Vezu",
        "colab": {
          "base_uri": "https://localhost:8080/"
        },
        "outputId": "deee8482-31b2-4dc7-d169-44a6a14bdfe5"
      },
      "source": [
        "# Récupérer la liste des images\n",
        "lst_img = glob.glob ('Images/*.tif')\n",
        "lst_img.sort() # ordonner par date si ce n'est pas le cas\n",
        "lst_img"
      ],
      "execution_count": 4,
      "outputs": [
        {
          "output_type": "execute_result",
          "data": {
            "text/plain": [
              "['Images/20160322_S2A.tif',\n",
              " 'Images/20160710_S2A.tif',\n",
              " 'Images/20160730_S2A.tif',\n",
              " 'Images/20160928_S2A.tif',\n",
              " 'Images/20161018_S2A.tif',\n",
              " 'Images/20161127_S2A.tif',\n",
              " 'Images/20161217_S2A.tif',\n",
              " 'Images/20161227_S2A.tif']"
            ]
          },
          "metadata": {
            "tags": []
          },
          "execution_count": 4
        }
      ]
    },
    {
      "cell_type": "code",
      "metadata": {
        "id": "GSpMjDMNa-Bg",
        "colab": {
          "base_uri": "https://localhost:8080/"
        },
        "outputId": "70d8286e-5586-41a6-8b87-a32200a6aeb0"
      },
      "source": [
        "# Lecture de la bande du rouge (B1) pour toute la série temporelle\n",
        "red_ts = []\n",
        "for img in lst_img:\n",
        "  red_ts.append( tifffile.imread(img)[:,:,0]) # Rouge\n",
        "red_ts = np.dstack(red_ts)\n",
        "red_ts.shape"
      ],
      "execution_count": 5,
      "outputs": [
        {
          "output_type": "execute_result",
          "data": {
            "text/plain": [
              "(5412, 5592, 8)"
            ]
          },
          "metadata": {
            "tags": []
          },
          "execution_count": 5
        }
      ]
    },
    {
      "cell_type": "code",
      "metadata": {
        "id": "X97WsP3kcTL1",
        "colab": {
          "base_uri": "https://localhost:8080/"
        },
        "outputId": "0f0be68b-e213-4e4d-db8f-33997349bd0a"
      },
      "source": [
        "# Lecture de la bande du vert (B2) pour toute la série temporelle\n",
        "green_ts = []\n",
        "for img in lst_img:\n",
        "  green_ts.append( tifffile.imread(img)[:,:,1]) # Vert\n",
        "green_ts = np.dstack(green_ts)\n",
        "green_ts.shape"
      ],
      "execution_count": 6,
      "outputs": [
        {
          "output_type": "execute_result",
          "data": {
            "text/plain": [
              "(5412, 5592, 8)"
            ]
          },
          "metadata": {
            "tags": []
          },
          "execution_count": 6
        }
      ]
    },
    {
      "cell_type": "code",
      "metadata": {
        "id": "t1GBdVCGcbcK",
        "colab": {
          "base_uri": "https://localhost:8080/"
        },
        "outputId": "de20bb25-148b-4998-f768-c3ad72a293db"
      },
      "source": [
        "# Lecture de la bande du bleu (B3) pour toute la série temporelle\n",
        "blue_ts = []\n",
        "for img in lst_img:\n",
        "  blue_ts.append( tifffile.imread(img)[:,:,2]) # Bleu\n",
        "blue_ts = np.dstack(blue_ts)\n",
        "blue_ts.shape"
      ],
      "execution_count": 7,
      "outputs": [
        {
          "output_type": "execute_result",
          "data": {
            "text/plain": [
              "(5412, 5592, 8)"
            ]
          },
          "metadata": {
            "tags": []
          },
          "execution_count": 7
        }
      ]
    },
    {
      "cell_type": "code",
      "metadata": {
        "id": "fDd4BjV-cbz8",
        "colab": {
          "base_uri": "https://localhost:8080/"
        },
        "outputId": "eba340be-f924-4537-8862-3a5f3562e8c9"
      },
      "source": [
        "# Lecture de la bande du proche infrarouge (B4) pour toute la série temporelle\n",
        "nir_ts = []\n",
        "for img in lst_img:\n",
        "  nir_ts.append( tifffile.imread(img)[:,:,3]) # Proche infra rouge\n",
        "nir_ts = np.dstack(nir_ts)\n",
        "nir_ts.shape"
      ],
      "execution_count": 8,
      "outputs": [
        {
          "output_type": "execute_result",
          "data": {
            "text/plain": [
              "(5412, 5592, 8)"
            ]
          },
          "metadata": {
            "tags": []
          },
          "execution_count": 8
        }
      ]
    },
    {
      "cell_type": "code",
      "metadata": {
        "id": "bJVBYJxuuJDA",
        "colab": {
          "base_uri": "https://localhost:8080/"
        },
        "outputId": "3b05050b-e119-43d5-cf3d-94b038856a60"
      },
      "source": [
        "# Calcul de l'indice NDVI\n",
        "ndvi_ts = np.where(nir_ts + red_ts == 0, 0, (nir_ts - red_ts) / (nir_ts + red_ts)).astype(np.float32)\n",
        "ndvi_ts.shape, ndvi_ts.dtype, ndvi_ts.min(), ndvi_ts.max()\n",
        "\n",
        "# Calcul de l'indice NDWI\n",
        "ndwi_ts = np.where(nir_ts + green_ts == 0,0, (green_ts - nir_ts) / (green_ts + nir_ts)).astype(np.float32)\n",
        "ndwi_ts.shape, ndwi_ts.dtype, ndwi_ts.min(), ndwi_ts.max()"
      ],
      "execution_count": 9,
      "outputs": [
        {
          "output_type": "execute_result",
          "data": {
            "text/plain": [
              "((5412, 5592, 8), dtype('float32'), -0.99970937, 0.9990526)"
            ]
          },
          "metadata": {
            "tags": []
          },
          "execution_count": 9
        }
      ]
    },
    {
      "cell_type": "markdown",
      "metadata": {
        "id": "rOOWsKQHlHvS"
      },
      "source": [
        "#### **Normalisation en utilisant le min et le max des bandes sur les séries temporelles**"
      ]
    },
    {
      "cell_type": "code",
      "metadata": {
        "id": "IoOk5-UccvSe",
        "colab": {
          "base_uri": "https://localhost:8080/"
        },
        "outputId": "8a7a98d0-7600-4d3f-9933-8d94128bbc47"
      },
      "source": [
        "# Normalisation des séries temporelles par bande: Rouge\n",
        "red_ts_norm = ( red_ts - red_ts.min() ) / ( red_ts.max() - red_ts.min() ).astype(np.float32)\n",
        "red_ts = None\n",
        "red_ts_norm.min() , red_ts_norm.max(), red_ts_norm.shape, red_ts_norm.dtype"
      ],
      "execution_count": 10,
      "outputs": [
        {
          "output_type": "execute_result",
          "data": {
            "text/plain": [
              "(0.0, 1.0, (5412, 5592, 8), dtype('float32'))"
            ]
          },
          "metadata": {
            "tags": []
          },
          "execution_count": 10
        }
      ]
    },
    {
      "cell_type": "code",
      "metadata": {
        "id": "-c1DlhJTe_6h",
        "colab": {
          "base_uri": "https://localhost:8080/"
        },
        "outputId": "e2d2fa95-3ae7-442d-c87a-ba909e7e9110"
      },
      "source": [
        "# Normalisation des séries temporelles par bande: Vert\n",
        "green_ts_norm = ( green_ts - green_ts.min() ) / ( green_ts.max() - green_ts.min() ).astype(np.float32)\n",
        "green_ts = None\n",
        "green_ts_norm.min() , green_ts_norm.max(), green_ts_norm.shape, green_ts_norm.dtype"
      ],
      "execution_count": 11,
      "outputs": [
        {
          "output_type": "execute_result",
          "data": {
            "text/plain": [
              "(0.0, 1.0, (5412, 5592, 8), dtype('float32'))"
            ]
          },
          "metadata": {
            "tags": []
          },
          "execution_count": 11
        }
      ]
    },
    {
      "cell_type": "code",
      "metadata": {
        "id": "hFNAbyIyfAJT",
        "colab": {
          "base_uri": "https://localhost:8080/"
        },
        "outputId": "718fa865-6b56-4513-9723-9b90abaa67d2"
      },
      "source": [
        "# Normalisation des séries temporelles par bande: Bleu\n",
        "blue_ts_norm = ( blue_ts - blue_ts.min() ) / ( blue_ts.max() - blue_ts.min() ).astype(np.float32)\n",
        "blue_ts = None\n",
        "blue_ts_norm.min() , blue_ts_norm.max(), blue_ts_norm.shape, blue_ts_norm.dtype"
      ],
      "execution_count": 12,
      "outputs": [
        {
          "output_type": "execute_result",
          "data": {
            "text/plain": [
              "(0.0, 1.0, (5412, 5592, 8), dtype('float32'))"
            ]
          },
          "metadata": {
            "tags": []
          },
          "execution_count": 12
        }
      ]
    },
    {
      "cell_type": "code",
      "metadata": {
        "id": "epIhb6brfAUK",
        "colab": {
          "base_uri": "https://localhost:8080/"
        },
        "outputId": "1809f481-4924-4fcf-ae94-78a2cbbf6c39"
      },
      "source": [
        "# Normalisation des séries temporelles par bande: Proche infrarouge\n",
        "nir_ts_norm = ( nir_ts - nir_ts.min() ) / ( nir_ts.max() - nir_ts.min() ).astype(np.float32)\n",
        "nir_ts = None\n",
        "nir_ts_norm.min() , nir_ts_norm.max(), nir_ts_norm.shape, nir_ts_norm.dtype"
      ],
      "execution_count": 13,
      "outputs": [
        {
          "output_type": "execute_result",
          "data": {
            "text/plain": [
              "(0.0, 1.0, (5412, 5592, 8), dtype('float32'))"
            ]
          },
          "metadata": {
            "tags": []
          },
          "execution_count": 13
        }
      ]
    },
    {
      "cell_type": "code",
      "metadata": {
        "id": "tAtrTnz_uQ2Y",
        "colab": {
          "base_uri": "https://localhost:8080/"
        },
        "outputId": "593fbb35-1273-4e52-fba3-ffbc3efa1f5e"
      },
      "source": [
        "# Normalisation des séries temporelles par bande: Indice de végétation par différence (NDVI)\n",
        "ndvi_ts_norm = ( ndvi_ts - ndvi_ts.min() ) / ( ndvi_ts.max() - ndvi_ts.min() ).astype(np.float32)\n",
        "ndvi_ts = None\n",
        "ndvi_ts_norm.min() , ndvi_ts_norm.max(), ndvi_ts_norm.shape, ndvi_ts_norm.dtype\n",
        "\n",
        "# Normalisation des séries temporelles par bande: Indice de l'eau par différence (NDWI)\n",
        "ndwi_ts_norm = ( ndwi_ts - ndwi_ts.min() ) / ( ndwi_ts.max() - ndwi_ts.min() ).astype(np.float32)\n",
        "ndwi_ts = None\n",
        "ndwi_ts_norm.min() , ndwi_ts_norm.max(), ndwi_ts_norm.shape, ndwi_ts_norm.dtype"
      ],
      "execution_count": 14,
      "outputs": [
        {
          "output_type": "execute_result",
          "data": {
            "text/plain": [
              "(0.0, 1.0, (5412, 5592, 8), dtype('float32'))"
            ]
          },
          "metadata": {
            "tags": []
          },
          "execution_count": 14
        }
      ]
    },
    {
      "cell_type": "markdown",
      "metadata": {
        "id": "YDQUbh3Nkpn7"
      },
      "source": [
        "### **Lecture de la vérité terrain et récupération des positions des pixels du jeu d'entraînement et de test**"
      ]
    },
    {
      "cell_type": "markdown",
      "metadata": {
        "id": "V_mXEBEKmuw7"
      },
      "source": [
        "#### **Lecture des fichiers de la vérité terrain**"
      ]
    },
    {
      "cell_type": "code",
      "metadata": {
        "id": "NBCQhbMUoBJU",
        "colab": {
          "base_uri": "https://localhost:8080/"
        },
        "outputId": "f9a27487-948a-491a-e785-6c443ba989b5"
      },
      "source": [
        "# Lire le fichier correspondant aux classes d'occupation du sol\n",
        "gt_class = tifffile.imread ('Verite_terrain/DORDOGNE_VT_CLASS.tif')\n",
        "gt_class.shape , gt_class.dtype"
      ],
      "execution_count": 15,
      "outputs": [
        {
          "output_type": "execute_result",
          "data": {
            "text/plain": [
              "((5412, 5592), dtype('uint8'))"
            ]
          },
          "metadata": {
            "tags": []
          },
          "execution_count": 15
        }
      ]
    },
    {
      "cell_type": "code",
      "metadata": {
        "id": "JLnTil_psMLW",
        "colab": {
          "base_uri": "https://localhost:8080/"
        },
        "outputId": "76f907d5-0fdd-4096-c856-0f80e5f38f44"
      },
      "source": [
        "# Lire le fichier correspondant aux identifiants\n",
        "gt_id = tifffile.imread ('Verite_terrain/DORDOGNE_VT_ID.tif')\n",
        "gt_id.shape, gt_id.dtype"
      ],
      "execution_count": 16,
      "outputs": [
        {
          "output_type": "execute_result",
          "data": {
            "text/plain": [
              "((5412, 5592), dtype('int16'))"
            ]
          },
          "metadata": {
            "tags": []
          },
          "execution_count": 16
        }
      ]
    },
    {
      "cell_type": "markdown",
      "metadata": {
        "id": "RjyGTdRpm5ii"
      },
      "source": [
        "#### **Récupération des positions des pixels d'entraînement et de test**"
      ]
    },
    {
      "cell_type": "code",
      "metadata": {
        "id": "yosWk1_BgiLE"
      },
      "source": [
        "# Récupérer les positions des échantillons d'entraînement et test\n",
        "idx_train_ = np.where ( (gt_id!=0) & (gt_class!=0) )\n",
        "idx_test = np.where ( (gt_id!=0) & (gt_class==0) )"
      ],
      "execution_count": 17,
      "outputs": []
    },
    {
      "cell_type": "code",
      "metadata": {
        "id": "uRX0xj4zjvVY",
        "colab": {
          "base_uri": "https://localhost:8080/",
          "height": 0
        },
        "outputId": "a79673e3-d7d1-42a7-c70d-1833eba7ba5b"
      },
      "source": [
        "# Lecture des identifiants et labels des échantillons d'entraînement\n",
        "train_id_ = gt_id[idx_train_]\n",
        "train_y_ = gt_class[idx_train_]\n",
        "f'échantillons d\\'entrainement: {train_y_.shape[0]} pixels, {len(np.unique(train_id_))} objets'"
      ],
      "execution_count": 18,
      "outputs": [
        {
          "output_type": "execute_result",
          "data": {
            "application/vnd.google.colaboratory.intrinsic+json": {
              "type": "string"
            },
            "text/plain": [
              "\"échantillons d'entrainement: 605431 pixels, 1859 objets\""
            ]
          },
          "metadata": {
            "tags": []
          },
          "execution_count": 18
        }
      ]
    },
    {
      "cell_type": "code",
      "metadata": {
        "id": "kiPCaHQ2jtZu",
        "colab": {
          "base_uri": "https://localhost:8080/",
          "height": 0
        },
        "outputId": "2654a056-3d10-4a03-8a8a-fd6fe6be3765"
      },
      "source": [
        "# Lecture des identifiants et labels des échantillons de test\n",
        "test_id = gt_id[idx_test]\n",
        "f'échantillons test: {test_id.shape[0]} pixels, {len(np.unique(test_id))} objets'"
      ],
      "execution_count": 19,
      "outputs": [
        {
          "output_type": "execute_result",
          "data": {
            "application/vnd.google.colaboratory.intrinsic+json": {
              "type": "string"
            },
            "text/plain": [
              "'échantillons test: 207485 pixels, 800 objets'"
            ]
          },
          "metadata": {
            "tags": []
          },
          "execution_count": 19
        }
      ]
    },
    {
      "cell_type": "markdown",
      "metadata": {
        "id": "hNFyNkc5oc6z"
      },
      "source": [
        "### **Création d'un jeu de validation en prenant une partie du jeu d'entraînement**\n",
        "Pour cela, on s'assure de faire la division en mettant les pixels ayant le même identifiant dans un seul et même lot"
      ]
    },
    {
      "cell_type": "code",
      "metadata": {
        "id": "2hI-jAEqrac1",
        "colab": {
          "base_uri": "https://localhost:8080/",
          "height": 0
        },
        "outputId": "7a7bc14f-909f-41f5-a5c6-6e3de2289fb1"
      },
      "source": [
        "# Dataframe pour créer un jeu de validation\n",
        "samples = pd.DataFrame({'ID':train_id_,'Class':train_y_})\n",
        "samples = samples.drop_duplicates(keep='first')\n",
        "samples.head(5)"
      ],
      "execution_count": 20,
      "outputs": [
        {
          "output_type": "execute_result",
          "data": {
            "text/html": [
              "<div>\n",
              "<style scoped>\n",
              "    .dataframe tbody tr th:only-of-type {\n",
              "        vertical-align: middle;\n",
              "    }\n",
              "\n",
              "    .dataframe tbody tr th {\n",
              "        vertical-align: top;\n",
              "    }\n",
              "\n",
              "    .dataframe thead th {\n",
              "        text-align: right;\n",
              "    }\n",
              "</style>\n",
              "<table border=\"1\" class=\"dataframe\">\n",
              "  <thead>\n",
              "    <tr style=\"text-align: right;\">\n",
              "      <th></th>\n",
              "      <th>ID</th>\n",
              "      <th>Class</th>\n",
              "    </tr>\n",
              "  </thead>\n",
              "  <tbody>\n",
              "    <tr>\n",
              "      <th>0</th>\n",
              "      <td>422</td>\n",
              "      <td>2</td>\n",
              "    </tr>\n",
              "    <tr>\n",
              "      <th>4</th>\n",
              "      <td>2677</td>\n",
              "      <td>5</td>\n",
              "    </tr>\n",
              "    <tr>\n",
              "      <th>5</th>\n",
              "      <td>201</td>\n",
              "      <td>3</td>\n",
              "    </tr>\n",
              "    <tr>\n",
              "      <th>29</th>\n",
              "      <td>423</td>\n",
              "      <td>2</td>\n",
              "    </tr>\n",
              "    <tr>\n",
              "      <th>100</th>\n",
              "      <td>496</td>\n",
              "      <td>2</td>\n",
              "    </tr>\n",
              "  </tbody>\n",
              "</table>\n",
              "</div>"
            ],
            "text/plain": [
              "       ID  Class\n",
              "0     422      2\n",
              "4    2677      5\n",
              "5     201      3\n",
              "29    423      2\n",
              "100   496      2"
            ]
          },
          "metadata": {
            "tags": []
          },
          "execution_count": 20
        }
      ]
    },
    {
      "cell_type": "code",
      "metadata": {
        "id": "894SPjgRs_S7",
        "colab": {
          "base_uri": "https://localhost:8080/"
        },
        "outputId": "832a3e88-4169-4ac1-9aec-e7b6de3709d0"
      },
      "source": [
        "# 30% des échantillons de chaque classe affecté au jeu de validation\n",
        "train_id = []\n",
        "valid_id = []\n",
        "for c in np.unique(samples.Class.values) :\n",
        "    samples_c = samples.loc[samples.Class==c]\n",
        "    samples_frac = samples_c.sample(frac=0.7,random_state=1234) \n",
        "    train_id.extend( samples_frac.ID.values )\n",
        "    valid_id.extend( samples_c.drop(samples_frac.index).ID.values )\n",
        "len(train_id),len(valid_id)"
      ],
      "execution_count": 21,
      "outputs": [
        {
          "output_type": "execute_result",
          "data": {
            "text/plain": [
              "(1301, 558)"
            ]
          },
          "metadata": {
            "tags": []
          },
          "execution_count": 21
        }
      ]
    },
    {
      "cell_type": "markdown",
      "metadata": {
        "id": "6J609q3BrKRk"
      },
      "source": [
        "### **Récupération des positions des nouveaux échantillons d'entraînement et de validation**"
      ]
    },
    {
      "cell_type": "code",
      "metadata": {
        "id": "WmVBWpvFdjlk"
      },
      "source": [
        "# Récupérer les positions des nouveaux échantillons d'entraînement et validation\n",
        "idx_train = np.where ( np.isin(gt_id,train_id) )\n",
        "idx_valid = np.where ( np.isin(gt_id,valid_id) )"
      ],
      "execution_count": 22,
      "outputs": []
    },
    {
      "cell_type": "markdown",
      "metadata": {
        "id": "3U6m2R-UwEFK"
      },
      "source": [
        "### **Lire finalement les labels correspondant aux nouveaux échantillons d'entraînement, de validation et test**"
      ]
    },
    {
      "cell_type": "code",
      "metadata": {
        "id": "vF_PEzn3vQzT",
        "colab": {
          "base_uri": "https://localhost:8080/"
        },
        "outputId": "97dc73fe-e62b-49f4-aa9d-05cb15b4cf37"
      },
      "source": [
        "train_y = gt_class[idx_train]\n",
        "valid_y = gt_class[idx_valid]\n",
        "test_y = gt_class[idx_test]\n",
        "train_y.shape, valid_y.shape, test_y.shape"
      ],
      "execution_count": 23,
      "outputs": [
        {
          "output_type": "execute_result",
          "data": {
            "text/plain": [
              "((451962,), (153469,), (207485,))"
            ]
          },
          "metadata": {
            "tags": []
          },
          "execution_count": 23
        }
      ]
    },
    {
      "cell_type": "markdown",
      "metadata": {
        "id": "lAt4KCeZR1Os"
      },
      "source": [
        "### **Lire finalement les identifiants correspondant aux nouveaux échantillons d'entraînement, de validation et test**"
      ]
    },
    {
      "cell_type": "code",
      "metadata": {
        "id": "m3SiC0eVRvtA",
        "colab": {
          "base_uri": "https://localhost:8080/"
        },
        "outputId": "b1cd5e18-261d-4fa2-dbef-2ccd095a92a5"
      },
      "source": [
        "# utile pour les aggrégations au niveau objet\n",
        "# train_id_array = gt_id[idx_train] # Pas vraiment nécessaire pour les échantillons d'entraînements\n",
        "valid_id_array = gt_id[idx_valid]\n",
        "test_id_array = gt_id[idx_test]\n",
        "#train_id_array.shape, \n",
        "valid_id_array.shape, test_id_array.shape"
      ],
      "execution_count": 24,
      "outputs": [
        {
          "output_type": "execute_result",
          "data": {
            "text/plain": [
              "((153469,), (207485,))"
            ]
          },
          "metadata": {
            "tags": []
          },
          "execution_count": 24
        }
      ]
    },
    {
      "cell_type": "markdown",
      "metadata": {
        "id": "xa-8J5r9r3KI"
      },
      "source": [
        "### **Lire finalement les valeurs des séries temporelles correspondant aux nouveaux échantillons d'entraînement, de validation et test**"
      ]
    },
    {
      "cell_type": "markdown",
      "metadata": {
        "id": "PXS90K1Vsg4H"
      },
      "source": [
        "#### **Pour un Perceptron multi-couche**"
      ]
    },
    {
      "cell_type": "code",
      "metadata": {
        "id": "TwjGd9exkFia",
        "colab": {
          "base_uri": "https://localhost:8080/"
        },
        "outputId": "7e45f0ea-cc72-4159-809e-f9d1a1356456"
      },
      "source": [
        "# Un perceptron multi-couche ou un algo classique de machine learning requiert un tableau 2D du type \n",
        "# (nombre d'échantillons, nombre de features=(nombre de dates x nombre de bandes))\n",
        "# Vous pouvez rajouter au stack les indices spectraux normalisés que vous aurez calculé\n",
        "\n",
        "train_X = np.column_stack ( ( blue_ts_norm[idx_train], green_ts_norm[idx_train], red_ts_norm[idx_train], nir_ts_norm[idx_train] ) )\n",
        "\n",
        "valid_X = np.column_stack ( ( blue_ts_norm[idx_valid], green_ts_norm[idx_valid], red_ts_norm[idx_valid], nir_ts_norm[idx_valid] ) )\n",
        "\n",
        "test_X = np.column_stack ( ( blue_ts_norm[idx_test], green_ts_norm[idx_test], red_ts_norm[idx_test], nir_ts_norm[idx_test] ) )\n",
        "\n",
        "train_X.shape, valid_X.shape, test_X.shape"
      ],
      "execution_count": 25,
      "outputs": [
        {
          "output_type": "execute_result",
          "data": {
            "text/plain": [
              "((451962, 32), (153469, 32), (207485, 32))"
            ]
          },
          "metadata": {
            "tags": []
          },
          "execution_count": 25
        }
      ]
    },
    {
      "cell_type": "markdown",
      "metadata": {
        "id": "YqabJEyUtgPX"
      },
      "source": [
        "#### **Pour un CNN 1D ou temporel**"
      ]
    },
    {
      "cell_type": "code",
      "metadata": {
        "id": "bdZa5w9ztkCk",
        "colab": {
          "base_uri": "https://localhost:8080/"
        },
        "outputId": "8eb5a264-714d-46f1-bd9c-1150d4a6645e"
      },
      "source": [
        "# Un CNN 1D ou temporel requiert un tableau 3D du type (nombre d'échantillons, nombre de dates, nombre de bandes)\n",
        "# Vous pouvez rajouter à la liste des bandes les indices spectraux normalisés que vous aurez calculé\n",
        "train_X = []\n",
        "for band in [blue_ts_norm,green_ts_norm,red_ts_norm,nir_ts_norm]:\n",
        "    train_X.append( band[idx_train] ) \n",
        "train_X = np.stack(train_X,axis=-1)\n",
        "\n",
        "valid_X = []\n",
        "for band in [blue_ts_norm,green_ts_norm,red_ts_norm,nir_ts_norm]:\n",
        "    valid_X.append( band[idx_valid] ) \n",
        "valid_X = np.stack(valid_X,axis=-1)\n",
        "\n",
        "test_X = []\n",
        "for band in [blue_ts_norm,green_ts_norm,red_ts_norm,nir_ts_norm]:\n",
        "    test_X.append( band[idx_test] ) \n",
        "test_X = np.stack(test_X,axis=-1)\n",
        "\n",
        "train_X.shape, valid_X.shape, test_X.shape"
      ],
      "execution_count": 26,
      "outputs": [
        {
          "output_type": "execute_result",
          "data": {
            "text/plain": [
              "((451962, 8, 4), (153469, 8, 4), (207485, 8, 4))"
            ]
          },
          "metadata": {
            "tags": []
          },
          "execution_count": 26
        }
      ]
    },
    {
      "cell_type": "markdown",
      "metadata": {
        "id": "oRTUKBQBwd1V"
      },
      "source": [
        "#### **Pour un CNN2D ou spatial avec exemple d'imagettes ou patchs de 5 sur 5 en largeur et hauteur** \n",
        "\n",
        "Des patchs de 9 sur 9 sur l'ensemble des échantillons sont un peu trop gourmands en RAM pour Google Colab"
      ]
    },
    {
      "cell_type": "code",
      "metadata": {
        "id": "rBZ2s4zGwc8C",
        "colab": {
          "base_uri": "https://localhost:8080/"
        },
        "outputId": "a8bf580d-1f63-4a79-8880-31cdbad72e34"
      },
      "source": [
        "# Un CNN 2D ou spatial requiert un tableau 3D du type (nombre d'échantillons, largeur, hauteur, nombre de features= (nombre de dates x nombre de bandes) )\n",
        "# Vous pouvez rajouter à la liste des bandes les indices spectraux normalisés que vous aurez calculé\n",
        "\n",
        "# Training\n",
        "# 1- précaution pour ne pas considérer les pixels dont on ne peut extraire des patchs car trop près du bord\n",
        "idx_col = idx_train[0]\n",
        "idx_row = idx_train[1]\n",
        "coords = np.column_stack((idx_col,idx_row))\n",
        "coords = coords[np.where( ( np.isin(coords[:,0],np.arange(2,blue_ts_norm.shape[0]-2,1)) ) & ( np.isin(coords[:,1],np.arange(2,blue_ts_norm.shape[1]-2,1)) ) ) ]\n",
        "# len(coords)\n",
        "# 2- créer un tableau avec les patchs\n",
        "train_X = []\n",
        "for coord in coords :\n",
        "  lst = []\n",
        "  for band in [blue_ts_norm,green_ts_norm,red_ts_norm,nir_ts_norm]:\n",
        "    lst.append( band[coord[0]-2:coord[0]+3,coord[1]-2:coord[1]+3] )\n",
        "  train_X.append(np.stack(lst,axis=-1).reshape(5,5,-1))\n",
        "train_X = np.stack(train_X,axis=0)\n",
        "train_X.shape"
      ],
      "execution_count": 27,
      "outputs": [
        {
          "output_type": "execute_result",
          "data": {
            "text/plain": [
              "(451962, 5, 5, 32)"
            ]
          },
          "metadata": {
            "tags": []
          },
          "execution_count": 27
        }
      ]
    },
    {
      "cell_type": "code",
      "metadata": {
        "id": "RhLlxu5j0O72",
        "colab": {
          "base_uri": "https://localhost:8080/"
        },
        "outputId": "da4abc2b-af86-4da4-9e62-1d7629e8cd93"
      },
      "source": [
        "# Validation\n",
        "# 1- précaution pour ne pas considérer les pixels dont on ne peut extraire des patchs car trop près du bord\n",
        "idx_col = idx_valid[0]\n",
        "idx_row = idx_valid[1]\n",
        "coords = np.column_stack((idx_col,idx_row))\n",
        "coords = coords[np.where( ( np.isin(coords[:,0],np.arange(2,blue_ts_norm.shape[0]-2,1)) ) & ( np.isin(coords[:,1],np.arange(2,blue_ts_norm.shape[1]-2,1)) ) ) ]\n",
        "# len(coords)\n",
        "# 2- créer un tableau avec les patchs\n",
        "valid_X = []\n",
        "for coord in coords :\n",
        "  lst = []\n",
        "  for band in [blue_ts_norm,green_ts_norm,red_ts_norm,nir_ts_norm]:\n",
        "    lst.append( band[coord[0]-2:coord[0]+3,coord[1]-2:coord[1]+3] )\n",
        "  valid_X.append(np.stack(lst,axis=-1).reshape(5,5,-1))\n",
        "valid_X = np.stack(valid_X,axis=0)\n",
        "valid_X.shape"
      ],
      "execution_count": 29,
      "outputs": [
        {
          "output_type": "execute_result",
          "data": {
            "text/plain": [
              "(153469, 5, 5, 32)"
            ]
          },
          "metadata": {
            "tags": []
          },
          "execution_count": 29
        }
      ]
    },
    {
      "cell_type": "code",
      "metadata": {
        "id": "0VR_nM9W0QkB",
        "colab": {
          "base_uri": "https://localhost:8080/"
        },
        "outputId": "a61e1916-5d18-4dc0-c07f-79f0e8e122b4"
      },
      "source": [
        "# Test\n",
        "# 1- précaution pour ne pas considérer les pixels dont on ne peut extraire des patchs car trop près du bord\n",
        "idx_col = idx_test[0]\n",
        "idx_row = idx_test[1]\n",
        "coords = np.column_stack((idx_col,idx_row))\n",
        "coords = coords[np.where( ( np.isin(coords[:,0],np.arange(2,blue_ts_norm.shape[0]-2,1)) ) & ( np.isin(coords[:,1],np.arange(2,blue_ts_norm.shape[1]-2,1)) ) ) ]\n",
        "# len(coords)\n",
        "# 2- créer un tableau avec les patchs\n",
        "test_X = []\n",
        "for coord in coords :\n",
        "  lst = []\n",
        "  for band in [blue_ts_norm,green_ts_norm,red_ts_norm,nir_ts_norm]:\n",
        "    lst.append( band[coord[0]-2:coord[0]+3,coord[1]-2:coord[1]+3] )\n",
        "  test_X.append(np.stack(lst,axis=-1).reshape(5,5,-1))\n",
        "test_X = np.stack(test_X,axis=0)\n",
        "test_X.shape"
      ],
      "execution_count": 30,
      "outputs": [
        {
          "output_type": "execute_result",
          "data": {
            "text/plain": [
              "(207485, 5, 5, 32)"
            ]
          },
          "metadata": {
            "tags": []
          },
          "execution_count": 30
        }
      ]
    },
    {
      "cell_type": "markdown",
      "metadata": {
        "id": "oiqM_sYRt5IL"
      },
      "source": [
        "### **Sauvegarde des données d'entraînement, de validation et test en fichier numpy**"
      ]
    },
    {
      "cell_type": "code",
      "metadata": {
        "id": "dPiv0fo3uJ8s"
      },
      "source": [
        "# Ainsi de cette façon vous pourrez continuer directement avec la création des modèles et en libérant la mémoire de tout ce qui a été fait précédemment\n",
        "Path('data').mkdir(exist_ok=True, parents=True)\n",
        "np.save('data/train_X.npy',train_X)\n",
        "np.save('data/train_y.npy',train_y)\n",
        "# np.save('data/train_id.npy',train_id_array)\n",
        "\n",
        "np.save('data/valid_X.npy',valid_X)\n",
        "np.save('data/valid_y.npy',valid_y)\n",
        "np.save('data/valid_id.npy',valid_id_array)\n",
        "\n",
        "np.save('data/test_X.npy',test_X)\n",
        "np.save('data/test_id.npy',test_id_array)"
      ],
      "execution_count": 31,
      "outputs": []
    },
    {
      "cell_type": "markdown",
      "metadata": {
        "id": "TOM6_mv--8IX"
      },
      "source": [
        "Videz la mémoire en redémarrant l'environnement d'exécution"
      ]
    },
    {
      "cell_type": "markdown",
      "metadata": {
        "id": "qv0jts6w6nxr"
      },
      "source": [
        "# **Votre modèle de deep learning**"
      ]
    },
    {
      "cell_type": "markdown",
      "metadata": {
        "id": "wmBRjg3QFrLe"
      },
      "source": [
        "### **Remontage de Drive et Importation de quelques librairies**"
      ]
    },
    {
      "cell_type": "code",
      "metadata": {
        "id": "rJUrD-aVMaN0",
        "colab": {
          "base_uri": "https://localhost:8080/"
        },
        "outputId": "b32f0f9b-0d47-4084-e6b2-928f8a006ae6"
      },
      "source": [
        "from google.colab import drive\n",
        "drive.mount('/content/drive')"
      ],
      "execution_count": 1,
      "outputs": [
        {
          "output_type": "stream",
          "text": [
            "Drive already mounted at /content/drive; to attempt to forcibly remount, call drive.mount(\"/content/drive\", force_remount=True).\n"
          ],
          "name": "stdout"
        }
      ]
    },
    {
      "cell_type": "code",
      "metadata": {
        "id": "_K5Xk6WeALcH"
      },
      "source": [
        "import os\n",
        "os.chdir('/content/drive/My Drive/Fac/M2-AIGLE/Projet_HMIN339M')\n",
        "import numpy as np\n",
        "import pandas as pd\n",
        "import tifffile\n",
        "from pathlib import Path\n",
        "from sklearn.metrics import f1_score, confusion_matrix\n",
        "from sklearn.preprocessing import LabelEncoder\n",
        "import tensorflow as tf\n",
        "from tensorflow.keras.layers import Dense, Dropout, Activation, Flatten, Conv2D, Conv1D, GlobalAveragePooling1D, GlobalAveragePooling2D, BatchNormalization, MaxPooling2D\n",
        "from tensorflow.keras.models import Sequential"
      ],
      "execution_count": 3,
      "outputs": []
    },
    {
      "cell_type": "markdown",
      "metadata": {
        "id": "UlRFSn7f_yKx"
      },
      "source": [
        "### **Recharger les données d'entraînement, de validation et test en fichier numpy**"
      ]
    },
    {
      "cell_type": "code",
      "metadata": {
        "id": "CVzkEkQA-jM7",
        "colab": {
          "base_uri": "https://localhost:8080/"
        },
        "outputId": "e94fde5c-1ec0-4c08-ba21-78c840a056d8"
      },
      "source": [
        "# Recharger les données après avoir vidé la mémoire\n",
        "train_X = np.load('data/train_X.npy')\n",
        "train_y = np.load('data/train_y.npy')\n",
        "\n",
        "valid_X = np.load('data/valid_X.npy')\n",
        "valid_y = np.load('data/valid_y.npy')\n",
        "valid_id = np.load('data/valid_id.npy')\n",
        "\n",
        "test_X = np.load('data/test_X.npy')\n",
        "test_id = np.load('data/test_id.npy')\n",
        "train_X.shape, train_y.shape, valid_X.shape, valid_y.shape, valid_id.shape, test_X.shape, test_id.shape"
      ],
      "execution_count": 4,
      "outputs": [
        {
          "output_type": "execute_result",
          "data": {
            "text/plain": [
              "((451962, 5, 5, 32),\n",
              " (451962,),\n",
              " (153469, 5, 5, 32),\n",
              " (153469,),\n",
              " (153469,),\n",
              " (207485, 5, 5, 32),\n",
              " (207485,))"
            ]
          },
          "metadata": {
            "tags": []
          },
          "execution_count": 4
        }
      ]
    },
    {
      "cell_type": "markdown",
      "metadata": {
        "id": "K23T_c-EAj_z"
      },
      "source": [
        "### **Encoder les labels entre 0 et 4 de sorte à matcher les prédictions des réseaux de neurones**"
      ]
    },
    {
      "cell_type": "code",
      "metadata": {
        "id": "FY74aok1Arfi",
        "colab": {
          "base_uri": "https://localhost:8080/"
        },
        "outputId": "bb0c099b-ad24-4246-f29a-acbb6bd48162"
      },
      "source": [
        "encoder = LabelEncoder()\n",
        "encoder.fit(train_y)\n",
        "train_y_enc = encoder.transform(train_y)\n",
        "valid_y_enc = encoder.transform(valid_y)\n",
        "np.unique(train_y), np.unique(train_y_enc), np.unique(valid_y), np.unique(valid_y_enc)"
      ],
      "execution_count": 5,
      "outputs": [
        {
          "output_type": "execute_result",
          "data": {
            "text/plain": [
              "(array([1, 2, 3, 4, 5], dtype=uint8),\n",
              " array([0, 1, 2, 3, 4]),\n",
              " array([1, 2, 3, 4, 5], dtype=uint8),\n",
              " array([0, 1, 2, 3, 4]))"
            ]
          },
          "metadata": {
            "tags": []
          },
          "execution_count": 5
        }
      ]
    },
    {
      "cell_type": "markdown",
      "metadata": {
        "id": "GpH3oJPVE3uE"
      },
      "source": [
        "### **Définition séquentielle de votre modèle avec Keras**\n",
        "\n",
        "N'oubliez pas de spécifier l'input shape qui varie en fonction des types d'architectures, le nombre de neurones de la couche de sortie qui équivaut au nombre de classes que vous avez et de l'activer avec une fonction Softmax"
      ]
    },
    {
      "cell_type": "markdown",
      "metadata": {
        "id": "EbCg987GouMK"
      },
      "source": [
        "mlp\n"
      ]
    },
    {
      "cell_type": "code",
      "metadata": {
        "id": "JbyoY8akotko"
      },
      "source": [
        "import tensorflow as tf\n",
        "from tensorflow.keras.datasets import mnist\n",
        "from tensorflow.keras.models import Sequential\n",
        "from tensorflow.keras.layers import Dense\n",
        "from tensorflow.keras.utils import to_categorical\n",
        "\n",
        "from tensorflow.keras.layers import Dropout, Activation, Flatten, Conv1D, MaxPooling1D, GlobalAveragePooling1D\n",
        "\n",
        "model = tf.keras.models.Sequential([\n",
        "  tf.keras.Input(shape=(32)),\n",
        "  tf.keras.layers.Dense(1024, activation='relu'),\n",
        "  #tf.keras.layers.Dropout(0.5),\n",
        "  tf.keras.layers.Dense(512,activation='relu'),\n",
        "  tf.keras.layers.Dense(5,activation=\"softmax\")\n",
        "])"
      ],
      "execution_count": 6,
      "outputs": []
    },
    {
      "cell_type": "markdown",
      "metadata": {
        "id": "YddwJ60jic14"
      },
      "source": [
        "cnn1d"
      ]
    },
    {
      "cell_type": "code",
      "metadata": {
        "id": "cvUdNqlKAu0X"
      },
      "source": [
        "import tensorflow as tf\n",
        "from tensorflow.keras.datasets import mnist\n",
        "from tensorflow.keras.models import Sequential\n",
        "from tensorflow.keras.layers import Dense\n",
        "from tensorflow.keras.utils import to_categorical\n",
        "\n",
        "from tensorflow.keras.layers import Dropout, Activation, Flatten, Conv1D, MaxPooling1D, GlobalAveragePooling1D\n",
        "\n",
        "model = Sequential()\n",
        "\n",
        "model.add(Conv1D(filters=64, kernel_size=3, padding='same', activation='relu',input_shape=(8,4)))\n",
        "model.add(Conv1D(filters=128, kernel_size=3, padding='same', activation='relu',input_shape=(8,4)))\n",
        "model.add(Conv1D(filters=256, kernel_size=3, padding='same', activation='relu',input_shape=(8,4)))\n",
        "\n",
        "model.add(GlobalAveragePooling1D())\n",
        "model.add(Dropout(0.5))\n",
        "\n",
        "model.add(Dense(256,activation='relu'))\n",
        "\n",
        "model.add(Dropout(0.5))\n",
        "\n",
        "model.add(Dense(256,activation='relu'))\n",
        "\n",
        "\n",
        "model.add(Dense(5))\n",
        "model.add(Activation('softmax'))"
      ],
      "execution_count": 7,
      "outputs": []
    },
    {
      "cell_type": "markdown",
      "metadata": {
        "id": "YD-DIMfFifcl"
      },
      "source": [
        "cnn2d"
      ]
    },
    {
      "cell_type": "code",
      "metadata": {
        "id": "o7eQ80iVie6M"
      },
      "source": [
        "import tensorflow as tf\n",
        "from tensorflow.keras.datasets import mnist\n",
        "from tensorflow.keras.models import Sequential\n",
        "from tensorflow.keras.layers import Dense\n",
        "from tensorflow.keras.utils import to_categorical\n",
        "\n",
        "from tensorflow.keras.layers import Dropout, Activation, Flatten, Conv2D, MaxPooling2D, GlobalAveragePooling2D\n",
        "\n",
        "\n",
        "model = tf.keras.Sequential()\n",
        "\n",
        "model.add(Conv2D(64, (3, 3), activation='relu', input_shape=(5, 5, 32)))\n",
        "model.add(MaxPooling2D(pool_size=(2,2)))\n",
        "\n",
        "model.add(Conv2D(128, (1, 1), activation='relu'))\n",
        "model.add(MaxPooling2D(pool_size=(1,1)))\n",
        "\n",
        "model.add(Conv2D(256, (1, 1), activation='relu'))\n",
        "model.add(MaxPooling2D(pool_size=(1,1)))\n",
        " \n",
        "\n",
        "model.add(Dropout(0.2))\n",
        "\n",
        "model.add(Dense(256, activation='relu'))\n",
        "model.add(Dropout(0.1))\n",
        "\n",
        "model.add(tf.keras.layers.Dense(5, activation='softmax'))"
      ],
      "execution_count": 8,
      "outputs": []
    },
    {
      "cell_type": "markdown",
      "metadata": {
        "id": "lNCnDD99d9ZH"
      },
      "source": [
        "hybride mlp cnn2D ( utiliser les données de départ du cnn2D)"
      ]
    },
    {
      "cell_type": "code",
      "metadata": {
        "colab": {
          "base_uri": "https://localhost:8080/"
        },
        "id": "MEiDtgtCd8rB",
        "outputId": "ee7ebdb6-3628-4cd4-c865-d73f2590bdc8"
      },
      "source": [
        "def MlpModel():\n",
        "  input = tf.keras.Input(shape=(32))\n",
        "\n",
        "  couche1 = Dense(64, activation='relu')(input)\n",
        "  couche2 = Dropout(0.3)(couche1)\n",
        "  couche3 = Dense(128, activation='relu')(couche2)\n",
        "  couche4 = Dropout(0.3)(couche3)\n",
        "  couche5 = Dense(256, activation='relu')(couche4)\n",
        "  couche6 = Dropout(0.3)(couche5)\n",
        " \n",
        "\n",
        "  return tf.keras.Model(inputs=input, outputs=couche6)\n",
        "\n",
        "mlp_model = MlpModel()\n",
        "mlp_model.summary()\n",
        "\n",
        "def Cnn2dModel():\n",
        "  input = tf.keras.Input(shape=(5,5,32))\n",
        "\n",
        "  couche1 = Conv2D(filters=32, kernel_size=(3,3), activation='relu')(input)\n",
        "  couche2 = MaxPooling2D(2,2)(couche1)\n",
        "  couche3 = Dropout(0.3)(couche2)\n",
        "  couche4 = GlobalAveragePooling2D()(couche3)\n",
        "\n",
        "  return tf.keras.Model(inputs=input, outputs=couche4)\n",
        "\n",
        "cnn2d_model = Cnn2dModel()\n",
        "cnn2d_model.summary() \n",
        "concat = tf.keras.layers.Concatenate()([mlp_model.output, cnn2d_model.output])\n",
        "\n",
        "layer_c = Dense(256, activation='relu')(concat)\n",
        "out_layer = Dense(5, activation='softmax')(layer_c)\n",
        "\n",
        "model = tf.keras.Model(inputs=[mlp_model.input, cnn2d_model.input], outputs=out_layer)\n",
        "\n",
        "tf.keras.utils.plot_model(model)\n",
        "\n",
        "train_X = [train_X[:,2,2,:].reshape(train_X.shape[0], -1), train_X]\n",
        "valid_X = [valid_X[:,2,2,:].reshape(valid_X.shape[0], -1), valid_X]\n",
        "test_X = [test_X[:,2,2,:].reshape(test_X.shape[0], -1), test_X]"
      ],
      "execution_count": 11,
      "outputs": [
        {
          "output_type": "stream",
          "text": [
            "Model: \"functional_7\"\n",
            "_________________________________________________________________\n",
            "Layer (type)                 Output Shape              Param #   \n",
            "=================================================================\n",
            "input_4 (InputLayer)         [(None, 32)]              0         \n",
            "_________________________________________________________________\n",
            "dense_13 (Dense)             (None, 64)                2112      \n",
            "_________________________________________________________________\n",
            "dropout_8 (Dropout)          (None, 64)                0         \n",
            "_________________________________________________________________\n",
            "dense_14 (Dense)             (None, 128)               8320      \n",
            "_________________________________________________________________\n",
            "dropout_9 (Dropout)          (None, 128)               0         \n",
            "_________________________________________________________________\n",
            "dense_15 (Dense)             (None, 256)               33024     \n",
            "_________________________________________________________________\n",
            "dropout_10 (Dropout)         (None, 256)               0         \n",
            "=================================================================\n",
            "Total params: 43,456\n",
            "Trainable params: 43,456\n",
            "Non-trainable params: 0\n",
            "_________________________________________________________________\n",
            "Model: \"functional_9\"\n",
            "_________________________________________________________________\n",
            "Layer (type)                 Output Shape              Param #   \n",
            "=================================================================\n",
            "input_5 (InputLayer)         [(None, 5, 5, 32)]        0         \n",
            "_________________________________________________________________\n",
            "conv2d_4 (Conv2D)            (None, 3, 3, 32)          9248      \n",
            "_________________________________________________________________\n",
            "max_pooling2d_4 (MaxPooling2 (None, 1, 1, 32)          0         \n",
            "_________________________________________________________________\n",
            "dropout_11 (Dropout)         (None, 1, 1, 32)          0         \n",
            "_________________________________________________________________\n",
            "global_average_pooling2d_1 ( (None, 32)                0         \n",
            "=================================================================\n",
            "Total params: 9,248\n",
            "Trainable params: 9,248\n",
            "Non-trainable params: 0\n",
            "_________________________________________________________________\n"
          ],
          "name": "stdout"
        }
      ]
    },
    {
      "cell_type": "code",
      "metadata": {
        "id": "jhhSzQvSFALk"
      },
      "source": [
        "# Afficher votre modèle\n",
        "model.summary()"
      ],
      "execution_count": null,
      "outputs": []
    },
    {
      "cell_type": "markdown",
      "metadata": {
        "id": "f2ksSpJGF1gP"
      },
      "source": [
        "### **Compiler votre modèle en définissant une fonction de côut, un optmiseur et une métrique**\n",
        "\n",
        "Dans le cas d'une classification multi-classe, votre fonction de coût est la cross entropy catégorique. $Adam$ est un bon optimiseur de départ pour vos projets. Ici vous pouvez surveiller la métrique $Accuracy$. Pour la fonction de coût (loss), je n'utilse pas l'argument $from\\_logits=True$ car j'ai déjà activé la couche de sortie avec une fonction Softmax"
      ]
    },
    {
      "cell_type": "code",
      "metadata": {
        "id": "qtwtaGndG7UN"
      },
      "source": [
        "model.compile(optimizer='adam',loss=tf.keras.losses.SparseCategoricalCrossentropy(), metrics=['acc'])"
      ],
      "execution_count": 12,
      "outputs": []
    },
    {
      "cell_type": "markdown",
      "metadata": {
        "id": "aLKCHopeIIet"
      },
      "source": [
        "### **Définir un callback pour sauver les poids de votre modèle sur les meilleures époque c'est à dire les moments où il s'améliorera sur le jeu de validation**"
      ]
    },
    {
      "cell_type": "code",
      "metadata": {
        "id": "X-_N87DhIH5N"
      },
      "source": [
        "Path('my_model').mkdir(exist_ok=True, parents=True)\n",
        "checkpointpath = os.path.join('my_model','model') # chemin où sauver le modèle\n",
        "callbacks = [tf.keras.callbacks.ModelCheckpoint(\n",
        "              checkpointpath,\n",
        "              verbose=1, # niveau de log\n",
        "              monitor='val_acc', # nom de la métrique à surveiller\n",
        "              save_best_only=True, # sauver uniquement le meilleur modèle\n",
        "              save_weights_only=True)] # sauver uniquement les poids"
      ],
      "execution_count": 13,
      "outputs": []
    },
    {
      "cell_type": "markdown",
      "metadata": {
        "id": "ozHZJ2CZH72X"
      },
      "source": [
        "### **Entraîner votre modèle pour un certain nombre d'époques**\n",
        "\n",
        "Le paramètre $validation\\_data$ vous permet de spécifier des données de validation et de votre le comportement de votre modèle sur un jeu indépendant dont il n'a pas la connaissance. \n",
        "\n",
        "La taille de batch ($batch\\_size$) correspond au nombre d'échantillons sur lesquels le modèle est entraîné à la fois sur une époque. Vous pouvez le mettre à (ex. 32, 64, 128, 256) et plus il est grand ce qui requiert d'avoir de la mémoire plus le temps d'exécution d'une époque sera court\n",
        "\n",
        "J'utilise les labels encodés entre 0 et 4 car la prédiction sur les distributions de probabilités du modèle est retournée avec un argmax"
      ]
    },
    {
      "cell_type": "code",
      "metadata": {
        "id": "8WpxHz3FJuJ6",
        "colab": {
          "base_uri": "https://localhost:8080/"
        },
        "outputId": "57740347-a5c5-4bba-863e-d6e071ee3512"
      },
      "source": [
        "BATCH_SIZE = 256\n",
        "EPOCHS = 30\n",
        "\n",
        "history = model.fit (train_X, train_y_enc, validation_data=(valid_X,valid_y_enc), batch_size=BATCH_SIZE, epochs=EPOCHS, callbacks=callbacks)"
      ],
      "execution_count": 14,
      "outputs": [
        {
          "output_type": "stream",
          "text": [
            "Epoch 1/30\n",
            "1763/1766 [============================>.] - ETA: 0s - loss: 0.3874 - acc: 0.8691\n",
            "Epoch 00001: val_acc improved from -inf to 0.89458, saving model to my_model/model\n",
            "1766/1766 [==============================] - 26s 15ms/step - loss: 0.3873 - acc: 0.8691 - val_loss: 0.2773 - val_acc: 0.8946\n",
            "Epoch 2/30\n",
            "1763/1766 [============================>.] - ETA: 0s - loss: 0.2755 - acc: 0.9050\n",
            "Epoch 00002: val_acc did not improve from 0.89458\n",
            "1766/1766 [==============================] - 25s 14ms/step - loss: 0.2754 - acc: 0.9050 - val_loss: 0.2970 - val_acc: 0.8866\n",
            "Epoch 3/30\n",
            "1763/1766 [============================>.] - ETA: 0s - loss: 0.2465 - acc: 0.9132\n",
            "Epoch 00003: val_acc improved from 0.89458 to 0.91225, saving model to my_model/model\n",
            "1766/1766 [==============================] - 25s 14ms/step - loss: 0.2465 - acc: 0.9132 - val_loss: 0.2343 - val_acc: 0.9122\n",
            "Epoch 4/30\n",
            "1764/1766 [============================>.] - ETA: 0s - loss: 0.2302 - acc: 0.9188\n",
            "Epoch 00004: val_acc did not improve from 0.91225\n",
            "1766/1766 [==============================] - 25s 14ms/step - loss: 0.2301 - acc: 0.9188 - val_loss: 0.2546 - val_acc: 0.9108\n",
            "Epoch 5/30\n",
            "1763/1766 [============================>.] - ETA: 0s - loss: 0.2180 - acc: 0.9229\n",
            "Epoch 00005: val_acc improved from 0.91225 to 0.91905, saving model to my_model/model\n",
            "1766/1766 [==============================] - 25s 14ms/step - loss: 0.2179 - acc: 0.9229 - val_loss: 0.2213 - val_acc: 0.9191\n",
            "Epoch 6/30\n",
            "1764/1766 [============================>.] - ETA: 0s - loss: 0.2108 - acc: 0.9254\n",
            "Epoch 00006: val_acc did not improve from 0.91905\n",
            "1766/1766 [==============================] - 25s 14ms/step - loss: 0.2108 - acc: 0.9254 - val_loss: 0.2730 - val_acc: 0.9026\n",
            "Epoch 7/30\n",
            "1763/1766 [============================>.] - ETA: 0s - loss: 0.2038 - acc: 0.9274\n",
            "Epoch 00007: val_acc did not improve from 0.91905\n",
            "1766/1766 [==============================] - 25s 14ms/step - loss: 0.2038 - acc: 0.9274 - val_loss: 0.2422 - val_acc: 0.9132\n",
            "Epoch 8/30\n",
            "1764/1766 [============================>.] - ETA: 0s - loss: 0.1980 - acc: 0.9295\n",
            "Epoch 00008: val_acc did not improve from 0.91905\n",
            "1766/1766 [==============================] - 26s 15ms/step - loss: 0.1980 - acc: 0.9295 - val_loss: 0.2270 - val_acc: 0.9162\n",
            "Epoch 9/30\n",
            "1764/1766 [============================>.] - ETA: 0s - loss: 0.1938 - acc: 0.9310\n",
            "Epoch 00009: val_acc did not improve from 0.91905\n",
            "1766/1766 [==============================] - 26s 15ms/step - loss: 0.1939 - acc: 0.9310 - val_loss: 0.2292 - val_acc: 0.9159\n",
            "Epoch 10/30\n",
            "1764/1766 [============================>.] - ETA: 0s - loss: 0.1874 - acc: 0.9332\n",
            "Epoch 00010: val_acc did not improve from 0.91905\n",
            "1766/1766 [==============================] - 26s 14ms/step - loss: 0.1874 - acc: 0.9331 - val_loss: 0.2349 - val_acc: 0.9169\n",
            "Epoch 11/30\n",
            "1763/1766 [============================>.] - ETA: 0s - loss: 0.1848 - acc: 0.9338\n",
            "Epoch 00011: val_acc improved from 0.91905 to 0.91958, saving model to my_model/model\n",
            "1766/1766 [==============================] - 26s 15ms/step - loss: 0.1847 - acc: 0.9338 - val_loss: 0.2259 - val_acc: 0.9196\n",
            "Epoch 12/30\n",
            "1765/1766 [============================>.] - ETA: 0s - loss: 0.1808 - acc: 0.9350\n",
            "Epoch 00012: val_acc did not improve from 0.91958\n",
            "1766/1766 [==============================] - 26s 14ms/step - loss: 0.1808 - acc: 0.9350 - val_loss: 0.2453 - val_acc: 0.9147\n",
            "Epoch 13/30\n",
            "1763/1766 [============================>.] - ETA: 0s - loss: 0.1769 - acc: 0.9364\n",
            "Epoch 00013: val_acc did not improve from 0.91958\n",
            "1766/1766 [==============================] - 25s 14ms/step - loss: 0.1769 - acc: 0.9364 - val_loss: 0.2251 - val_acc: 0.9183\n",
            "Epoch 14/30\n",
            "1764/1766 [============================>.] - ETA: 0s - loss: 0.1733 - acc: 0.9378\n",
            "Epoch 00014: val_acc did not improve from 0.91958\n",
            "1766/1766 [==============================] - 26s 14ms/step - loss: 0.1733 - acc: 0.9378 - val_loss: 0.2775 - val_acc: 0.9076\n",
            "Epoch 15/30\n",
            "1764/1766 [============================>.] - ETA: 0s - loss: 0.1698 - acc: 0.9389\n",
            "Epoch 00015: val_acc did not improve from 0.91958\n",
            "1766/1766 [==============================] - 26s 14ms/step - loss: 0.1698 - acc: 0.9389 - val_loss: 0.2299 - val_acc: 0.9178\n",
            "Epoch 16/30\n",
            "1765/1766 [============================>.] - ETA: 0s - loss: 0.1687 - acc: 0.9394\n",
            "Epoch 00016: val_acc did not improve from 0.91958\n",
            "1766/1766 [==============================] - 25s 14ms/step - loss: 0.1687 - acc: 0.9394 - val_loss: 0.2395 - val_acc: 0.9124\n",
            "Epoch 17/30\n",
            "1763/1766 [============================>.] - ETA: 0s - loss: 0.1650 - acc: 0.9407\n",
            "Epoch 00017: val_acc did not improve from 0.91958\n",
            "1766/1766 [==============================] - 26s 15ms/step - loss: 0.1650 - acc: 0.9407 - val_loss: 0.2376 - val_acc: 0.9167\n",
            "Epoch 18/30\n",
            "1766/1766 [==============================] - ETA: 0s - loss: 0.1626 - acc: 0.9415\n",
            "Epoch 00018: val_acc did not improve from 0.91958\n",
            "1766/1766 [==============================] - 26s 15ms/step - loss: 0.1626 - acc: 0.9415 - val_loss: 0.2368 - val_acc: 0.9143\n",
            "Epoch 19/30\n",
            "1766/1766 [==============================] - ETA: 0s - loss: 0.1602 - acc: 0.9419\n",
            "Epoch 00019: val_acc did not improve from 0.91958\n",
            "1766/1766 [==============================] - 26s 14ms/step - loss: 0.1602 - acc: 0.9419 - val_loss: 0.2365 - val_acc: 0.9166\n",
            "Epoch 20/30\n",
            "1765/1766 [============================>.] - ETA: 0s - loss: 0.1578 - acc: 0.9431\n",
            "Epoch 00020: val_acc did not improve from 0.91958\n",
            "1766/1766 [==============================] - 26s 15ms/step - loss: 0.1578 - acc: 0.9431 - val_loss: 0.2677 - val_acc: 0.9094\n",
            "Epoch 21/30\n",
            "1765/1766 [============================>.] - ETA: 0s - loss: 0.1557 - acc: 0.9436\n",
            "Epoch 00021: val_acc did not improve from 0.91958\n",
            "1766/1766 [==============================] - 26s 15ms/step - loss: 0.1557 - acc: 0.9436 - val_loss: 0.2570 - val_acc: 0.9141\n",
            "Epoch 22/30\n",
            "1765/1766 [============================>.] - ETA: 0s - loss: 0.1545 - acc: 0.9442\n",
            "Epoch 00022: val_acc did not improve from 0.91958\n",
            "1766/1766 [==============================] - 26s 15ms/step - loss: 0.1545 - acc: 0.9442 - val_loss: 0.2614 - val_acc: 0.9126\n",
            "Epoch 23/30\n",
            "1766/1766 [==============================] - ETA: 0s - loss: 0.1527 - acc: 0.9446\n",
            "Epoch 00023: val_acc did not improve from 0.91958\n",
            "1766/1766 [==============================] - 26s 14ms/step - loss: 0.1527 - acc: 0.9446 - val_loss: 0.2688 - val_acc: 0.9125\n",
            "Epoch 24/30\n",
            "1766/1766 [==============================] - ETA: 0s - loss: 0.1499 - acc: 0.9455\n",
            "Epoch 00024: val_acc did not improve from 0.91958\n",
            "1766/1766 [==============================] - 26s 14ms/step - loss: 0.1499 - acc: 0.9455 - val_loss: 0.2477 - val_acc: 0.9147\n",
            "Epoch 25/30\n",
            "1764/1766 [============================>.] - ETA: 0s - loss: 0.1478 - acc: 0.9463\n",
            "Epoch 00025: val_acc did not improve from 0.91958\n",
            "1766/1766 [==============================] - 26s 14ms/step - loss: 0.1478 - acc: 0.9463 - val_loss: 0.2646 - val_acc: 0.9130\n",
            "Epoch 26/30\n",
            "1764/1766 [============================>.] - ETA: 0s - loss: 0.1475 - acc: 0.9466\n",
            "Epoch 00026: val_acc did not improve from 0.91958\n",
            "1766/1766 [==============================] - 26s 14ms/step - loss: 0.1474 - acc: 0.9466 - val_loss: 0.2817 - val_acc: 0.9071\n",
            "Epoch 27/30\n",
            "1764/1766 [============================>.] - ETA: 0s - loss: 0.1451 - acc: 0.9471\n",
            "Epoch 00027: val_acc did not improve from 0.91958\n",
            "1766/1766 [==============================] - 26s 15ms/step - loss: 0.1450 - acc: 0.9471 - val_loss: 0.2547 - val_acc: 0.9134\n",
            "Epoch 28/30\n",
            "1766/1766 [==============================] - ETA: 0s - loss: 0.1444 - acc: 0.9473\n",
            "Epoch 00028: val_acc did not improve from 0.91958\n",
            "1766/1766 [==============================] - 26s 15ms/step - loss: 0.1444 - acc: 0.9473 - val_loss: 0.2606 - val_acc: 0.9152\n",
            "Epoch 29/30\n",
            "1762/1766 [============================>.] - ETA: 0s - loss: 0.1430 - acc: 0.9482\n",
            "Epoch 00029: val_acc did not improve from 0.91958\n",
            "1766/1766 [==============================] - 26s 15ms/step - loss: 0.1431 - acc: 0.9482 - val_loss: 0.2776 - val_acc: 0.9038\n",
            "Epoch 30/30\n",
            "1764/1766 [============================>.] - ETA: 0s - loss: 0.1414 - acc: 0.9488\n",
            "Epoch 00030: val_acc did not improve from 0.91958\n",
            "1766/1766 [==============================] - 26s 15ms/step - loss: 0.1413 - acc: 0.9488 - val_loss: 0.2813 - val_acc: 0.9100\n"
          ],
          "name": "stdout"
        }
      ]
    },
    {
      "cell_type": "markdown",
      "metadata": {
        "id": "4C_OGTGLu_o2"
      },
      "source": [
        "Evolution de training et validation Loss"
      ]
    },
    {
      "cell_type": "code",
      "metadata": {
        "colab": {
          "base_uri": "https://localhost:8080/",
          "height": 295
        },
        "id": "LCS2DsX3k07s",
        "outputId": "825db387-1560-4c80-9dab-30c7b564f665"
      },
      "source": [
        "from matplotlib import pyplot as plt\n",
        "plt.style.use('dark_background')\n",
        "\n",
        "loss = history.history['loss']\n",
        "val_loss = history.history['val_loss']\n",
        "epochs = range(1, len(loss) + 1)\n",
        "plt.plot(epochs, loss, 'y', label='Training loss')\n",
        "plt.plot(epochs, val_loss, 'r', label='Validation loss')\n",
        "plt.title('Training and validation loss')\n",
        "plt.xlabel('Epochs')\n",
        "plt.ylabel('Loss')\n",
        "plt.legend()\n",
        "plt.show()\n"
      ],
      "execution_count": 15,
      "outputs": [
        {
          "output_type": "display_data",
          "data": {
            "image/png": "[encoded data removed]",
            "text/plain": [
              "<Figure size 432x288 with 1 Axes>"
            ]
          },
          "metadata": {
            "tags": []
          }
        }
      ]
    },
    {
      "cell_type": "markdown",
      "metadata": {
        "id": "_6rAdqQQ03PD"
      },
      "source": [
        "Evolution de training accuracy et validation accuracy"
      ]
    },
    {
      "cell_type": "code",
      "metadata": {
        "colab": {
          "base_uri": "https://localhost:8080/",
          "height": 295
        },
        "id": "QhPJ2CpKqJo_",
        "outputId": "243eb0fd-de82-49ff-c2bc-621cb4f68423"
      },
      "source": [
        "acc = history.history['acc']\n",
        "val_acc = history.history['val_acc']\n",
        "plt.plot(epochs, acc, 'y', label='Training acc')\n",
        "plt.plot(epochs, val_acc, 'r', label='Validation acc')\n",
        "plt.title('Training and validation accuracy')\n",
        "plt.xlabel('Epochs')\n",
        "plt.ylabel('Accuracy')\n",
        "plt.legend()\n",
        "plt.show()"
      ],
      "execution_count": 16,
      "outputs": [
        {
          "output_type": "display_data",
          "data": {
            "image/png": "[encoded data removed]",
            "text/plain": [
              "<Figure size 432x288 with 1 Axes>"
            ]
          },
          "metadata": {
            "tags": []
          }
        }
      ]
    },
    {
      "cell_type": "markdown",
      "metadata": {
        "id": "n8LxITTsM856"
      },
      "source": [
        "### **Restaurer les poids du modèle sur la meilleure époque d'entraînement**"
      ]
    },
    {
      "cell_type": "code",
      "metadata": {
        "id": "l1F4KMnnMz3d",
        "colab": {
          "base_uri": "https://localhost:8080/"
        },
        "outputId": "53f14076-eb1e-43a2-c7cb-082918c98ac0"
      },
      "source": [
        "model.load_weights(checkpointpath)\n",
        "# S'assurer que c'est bien le meilleur modèle sur les époques d'entraînement\n",
        "\n",
        "model.evaluate(valid_X,valid_y_enc,batch_size=256)"
      ],
      "execution_count": 17,
      "outputs": [
        {
          "output_type": "stream",
          "text": [
            "600/600 [==============================] - 3s 4ms/step - loss: 0.2259 - acc: 0.9196\n"
          ],
          "name": "stdout"
        },
        {
          "output_type": "execute_result",
          "data": {
            "text/plain": [
              "[0.22588936984539032, 0.9195798635482788]"
            ]
          },
          "metadata": {
            "tags": []
          },
          "execution_count": 17
        }
      ]
    },
    {
      "cell_type": "markdown",
      "metadata": {
        "id": "Zh14_LtSPCqB"
      },
      "source": [
        "### **Prédiction des classes sur le jeu de validation et évaluation en aggrégeant au niveau objet**"
      ]
    },
    {
      "cell_type": "code",
      "metadata": {
        "id": "zDpjyx_JPNjv",
        "colab": {
          "base_uri": "https://localhost:8080/"
        },
        "outputId": "f7011f91-3228-4d69-e559-c5b906b8beb8"
      },
      "source": [
        "# Récupérer les probabilités prédites sur le jeu de validation\n",
        "valid_prob = model.predict(valid_X,batch_size=256)\n",
        "valid_prob.shape"
      ],
      "execution_count": 18,
      "outputs": [
        {
          "output_type": "execute_result",
          "data": {
            "text/plain": [
              "(153469, 5)"
            ]
          },
          "metadata": {
            "tags": []
          },
          "execution_count": 18
        }
      ]
    },
    {
      "cell_type": "code",
      "metadata": {
        "id": "26YozrngPZyW",
        "colab": {
          "base_uri": "https://localhost:8080/"
        },
        "outputId": "d8a3da72-57fe-496d-aa9d-77ea1b53ddb1"
      },
      "source": [
        "# Retourner la classe correspondant à la probabilité la plus haute\n",
        "valid_pred = np.argmax(valid_prob,axis=1) # axe 1 car ceci concerne chaque ligne\n",
        "valid_pred.shape"
      ],
      "execution_count": 19,
      "outputs": [
        {
          "output_type": "execute_result",
          "data": {
            "text/plain": [
              "(153469,)"
            ]
          },
          "metadata": {
            "tags": []
          },
          "execution_count": 19
        }
      ]
    },
    {
      "cell_type": "code",
      "metadata": {
        "id": "57Fyn2eyWU3w",
        "colab": {
          "base_uri": "https://localhost:8080/"
        },
        "outputId": "ae8a6869-a8b0-4499-e9d6-2985dd3bb612"
      },
      "source": [
        "# Je réencode les prédictions entre 1 et 5\n",
        "valid_pred_enc = encoder.inverse_transform(valid_pred)\n",
        "np.unique(valid_pred_enc)"
      ],
      "execution_count": 20,
      "outputs": [
        {
          "output_type": "execute_result",
          "data": {
            "text/plain": [
              "array([1, 2, 3, 4, 5], dtype=uint8)"
            ]
          },
          "metadata": {
            "tags": []
          },
          "execution_count": 20
        }
      ]
    },
    {
      "cell_type": "code",
      "metadata": {
        "id": "z35nADR_P-ut",
        "colab": {
          "base_uri": "https://localhost:8080/"
        },
        "outputId": "27cc0fa6-839c-4b68-a11f-98d302485dd1"
      },
      "source": [
        "# Aggrégation au niveau objet\n",
        "out_pred = []\n",
        "unique_id = np.unique(valid_id)\n",
        "for ID in unique_id :\n",
        "    # Récupérer les prédictions des pixels appartenant au même objet\n",
        "    pred = valid_pred_enc[np.where(valid_id==ID)]\n",
        "    y_true = valid_y[np.where(valid_id==ID)]\n",
        "    # Prendre la valeur majoritaire des prédictions sur les pixels\n",
        "    out_pred.append([ np.bincount(y_true).argmax(), np.bincount(pred).argmax()]) #(Vérité terrain,Prédiction majoritaire)\n",
        "out_pred = np.vstack(out_pred)\n",
        "out_pred.shape"
      ],
      "execution_count": 21,
      "outputs": [
        {
          "output_type": "execute_result",
          "data": {
            "text/plain": [
              "(558, 2)"
            ]
          },
          "metadata": {
            "tags": []
          },
          "execution_count": 21
        }
      ]
    },
    {
      "cell_type": "code",
      "metadata": {
        "id": "hQ2jDDDZWsKQ",
        "colab": {
          "base_uri": "https://localhost:8080/"
        },
        "outputId": "dc0b47ab-2bad-4ebc-8912-cd0ce6b47dbd"
      },
      "source": [
        "# F1 score au niveau objet\n",
        "f1_score(out_pred[:,0],out_pred[:,1],average='weighted')"
      ],
      "execution_count": 22,
      "outputs": [
        {
          "output_type": "execute_result",
          "data": {
            "text/plain": [
              "0.8938444058478536"
            ]
          },
          "metadata": {
            "tags": []
          },
          "execution_count": 22
        }
      ]
    },
    {
      "cell_type": "markdown",
      "metadata": {
        "id": "zIXYledyW9QI"
      },
      "source": [
        "### **Prédire sur le jeu test et Préparer une soumission**"
      ]
    },
    {
      "cell_type": "code",
      "metadata": {
        "id": "p--sBOPKW4SE",
        "colab": {
          "base_uri": "https://localhost:8080/"
        },
        "outputId": "2bf7090b-290a-4fe9-ef0e-b174602adb44"
      },
      "source": [
        "# Récupérer les probabilités prédites sur le jeu test\n",
        "test_prob = model.predict(test_X,batch_size=256)\n",
        "test_prob.shape"
      ],
      "execution_count": 23,
      "outputs": [
        {
          "output_type": "execute_result",
          "data": {
            "text/plain": [
              "(207485, 5)"
            ]
          },
          "metadata": {
            "tags": []
          },
          "execution_count": 23
        }
      ]
    },
    {
      "cell_type": "code",
      "metadata": {
        "id": "QtI8FHPyXHF1",
        "colab": {
          "base_uri": "https://localhost:8080/"
        },
        "outputId": "6ba7de1b-59c9-44e4-a633-3c2c5394fabb"
      },
      "source": [
        "# Retourner la classe correspondant à la probabilité la plus haute\n",
        "test_pred = np.argmax(test_prob,axis=1) # axe 1 car ceci concerne chaque ligne\n",
        "test_pred.shape"
      ],
      "execution_count": 24,
      "outputs": [
        {
          "output_type": "execute_result",
          "data": {
            "text/plain": [
              "(207485,)"
            ]
          },
          "metadata": {
            "tags": []
          },
          "execution_count": 24
        }
      ]
    },
    {
      "cell_type": "code",
      "metadata": {
        "id": "V4xPl0mFXNEi",
        "colab": {
          "base_uri": "https://localhost:8080/"
        },
        "outputId": "97878942-232a-41b6-9232-4158f7f4f25e"
      },
      "source": [
        "# Je réencode les prédictions entre 1 et 5\n",
        "test_pred_enc = encoder.inverse_transform(test_pred)\n",
        "np.unique(test_pred_enc)"
      ],
      "execution_count": 25,
      "outputs": [
        {
          "output_type": "execute_result",
          "data": {
            "text/plain": [
              "array([1, 2, 3, 4, 5], dtype=uint8)"
            ]
          },
          "metadata": {
            "tags": []
          },
          "execution_count": 25
        }
      ]
    },
    {
      "cell_type": "code",
      "metadata": {
        "id": "khjM1qqMXTSY",
        "colab": {
          "base_uri": "https://localhost:8080/"
        },
        "outputId": "d43245ad-cecf-4583-9208-c72f7a96dca7"
      },
      "source": [
        "# Aggrégation au niveau objet\n",
        "agg_pred = []\n",
        "unique_id = np.unique(test_id)\n",
        "for ID in unique_id :\n",
        "    # Récupérer les prédictions des pixels appartenant au même objet\n",
        "    pred = test_pred_enc[np.where(test_id==ID)]\n",
        "    # Prendre la valeur majoritaire des prédictions sur les pixels\n",
        "    agg_pred.append([ ID, np.bincount(pred).argmax()]) #(ID,Prédiction majoritaire)\n",
        "agg_pred = np.vstack(agg_pred)\n",
        "agg_pred.shape"
      ],
      "execution_count": 26,
      "outputs": [
        {
          "output_type": "execute_result",
          "data": {
            "text/plain": [
              "(800, 2)"
            ]
          },
          "metadata": {
            "tags": []
          },
          "execution_count": 26
        }
      ]
    },
    {
      "cell_type": "code",
      "metadata": {
        "id": "ZIdn628cEtgx",
        "colab": {
          "base_uri": "https://localhost:8080/",
          "height": 206
        },
        "outputId": "10c08c06-4557-4921-be33-54c0aa2197ec"
      },
      "source": [
        "df = pd.DataFrame({'ID':agg_pred[:,0],'Class':agg_pred[:,1]})\n",
        "df.to_csv('Soumission_NaidjaYoussefDiabateLight2.csv',index=False)\n",
        "df.head(5)"
      ],
      "execution_count": 27,
      "outputs": [
        {
          "output_type": "execute_result",
          "data": {
            "text/html": [
              "<div>\n",
              "<style scoped>\n",
              "    .dataframe tbody tr th:only-of-type {\n",
              "        vertical-align: middle;\n",
              "    }\n",
              "\n",
              "    .dataframe tbody tr th {\n",
              "        vertical-align: top;\n",
              "    }\n",
              "\n",
              "    .dataframe thead th {\n",
              "        text-align: right;\n",
              "    }\n",
              "</style>\n",
              "<table border=\"1\" class=\"dataframe\">\n",
              "  <thead>\n",
              "    <tr style=\"text-align: right;\">\n",
              "      <th></th>\n",
              "      <th>ID</th>\n",
              "      <th>Class</th>\n",
              "    </tr>\n",
              "  </thead>\n",
              "  <tbody>\n",
              "    <tr>\n",
              "      <th>0</th>\n",
              "      <td>4</td>\n",
              "      <td>5</td>\n",
              "    </tr>\n",
              "    <tr>\n",
              "      <th>1</th>\n",
              "      <td>7</td>\n",
              "      <td>3</td>\n",
              "    </tr>\n",
              "    <tr>\n",
              "      <th>2</th>\n",
              "      <td>8</td>\n",
              "      <td>5</td>\n",
              "    </tr>\n",
              "    <tr>\n",
              "      <th>3</th>\n",
              "      <td>9</td>\n",
              "      <td>3</td>\n",
              "    </tr>\n",
              "    <tr>\n",
              "      <th>4</th>\n",
              "      <td>10</td>\n",
              "      <td>3</td>\n",
              "    </tr>\n",
              "  </tbody>\n",
              "</table>\n",
              "</div>"
            ],
            "text/plain": [
              "   ID  Class\n",
              "0   4      5\n",
              "1   7      3\n",
              "2   8      5\n",
              "3   9      3\n",
              "4  10      3"
            ]
          },
          "metadata": {
            "tags": []
          },
          "execution_count": 27
        }
      ]
    },
    {
      "cell_type": "code",
      "metadata": {
        "id": "s6WuuJCkXsu0",
        "colab": {
          "base_uri": "https://localhost:8080/"
        },
        "outputId": "8a1433f2-274b-4d9b-bb8d-d4db89b89b66"
      },
      "source": [
        "# F1 Score au niveau objet\n",
        "df_test = pd.read_csv('Test_ID_Label.csv') # Ce fichier vous sera fourni le 12 Novembre\n",
        "f1_score(df_test.Class,df.Class,average='weighted')"
      ],
      "execution_count": 29,
      "outputs": [
        {
          "output_type": "execute_result",
          "data": {
            "text/plain": [
              "0.8792682456131646"
            ]
          },
          "metadata": {
            "tags": []
          },
          "execution_count": 29
        }
      ]
    }
  ]
}