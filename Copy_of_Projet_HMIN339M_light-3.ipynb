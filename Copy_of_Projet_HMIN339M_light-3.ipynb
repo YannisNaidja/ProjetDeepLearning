{
  "nbformat": 4,
  "nbformat_minor": 0,
  "metadata": {
    "colab": {
      "name": "Copy_of_Projet_HMIN339M_light.ipynb",
      "provenance": [],
      "collapsed_sections": []
    },
    "kernelspec": {
      "display_name": "Python 3",
      "name": "python3"
    }
  },
  "cells": [
    {
      "cell_type": "markdown",
      "metadata": {
        "id": "_pJr2QX16y0C"
      },
      "source": [
        "# **Préparer les données**"
      ]
    },
    {
      "cell_type": "markdown",
      "metadata": {
        "id": "vI65qFkLjyEY"
      },
      "source": [
        "### **Monter le dossier dans Drive**"
      ]
    },
    {
      "cell_type": "code",
      "metadata": {
        "id": "DVb5j_uZDvRs",
        "colab": {
          "base_uri": "https://localhost:8080/"
        },
        "outputId": "1afe780a-b5ce-44a3-e6b2-fe76a4f81cdd"
      },
      "source": [
        "from google.colab import drive\n",
        "drive.mount('/content/drive')"
      ],
      "execution_count": 2,
      "outputs": [
        {
          "output_type": "stream",
          "text": [
            "Mounted at /content/drive\n"
          ],
          "name": "stdout"
        }
      ]
    },
    {
      "cell_type": "code",
      "metadata": {
        "id": "9DcknGEsEkrE"
      },
      "source": [
        "import os\n",
        "os.chdir('/content/drive/My Drive/Projet_HMIN339M')"
      ],
      "execution_count": 3,
      "outputs": []
    },
    {
      "cell_type": "markdown",
      "metadata": {
        "id": "uEIWGiCq_s3g"
      },
      "source": [
        "### **Importation de quelques librairies**"
      ]
    },
    {
      "cell_type": "code",
      "metadata": {
        "id": "0HzSSHr5ooul"
      },
      "source": [
        "import numpy as np\n",
        "import tifffile\n",
        "import glob\n",
        "from pathlib import Path\n",
        "import pandas as pd"
      ],
      "execution_count": 4,
      "outputs": []
    },
    {
      "cell_type": "markdown",
      "metadata": {
        "id": "wVrWVyvfkBDD"
      },
      "source": [
        "### **Lecture de la série temporelle d'images et Normalisation par bande sur la série temporelle entre 0 et 1** "
      ]
    },
    {
      "cell_type": "markdown",
      "metadata": {
        "id": "95CB2_IllQFu"
      },
      "source": [
        "#### **Lecture des images et création des séries temporelles de bandes**"
      ]
    },
    {
      "cell_type": "code",
      "metadata": {
        "id": "Ut67k4u3Vezu",
        "colab": {
          "base_uri": "https://localhost:8080/"
        },
        "outputId": "36b6734c-8388-45a7-e3b1-28b86ca1ae4e"
      },
      "source": [
        "# Récupérer la liste des images\n",
        "lst_img = glob.glob ('Images/*.tif')\n",
        "lst_img.sort() # ordonner par date si ce n'est pas le cas\n",
        "lst_img"
      ],
      "execution_count": 5,
      "outputs": [
        {
          "output_type": "execute_result",
          "data": {
            "text/plain": [
              "['Images/20160322_S2A.tif',\n",
              " 'Images/20160710_S2A.tif',\n",
              " 'Images/20160730_S2A.tif',\n",
              " 'Images/20160928_S2A.tif',\n",
              " 'Images/20161018_S2A.tif',\n",
              " 'Images/20161127_S2A.tif',\n",
              " 'Images/20161217_S2A.tif',\n",
              " 'Images/20161227_S2A.tif']"
            ]
          },
          "metadata": {
            "tags": []
          },
          "execution_count": 5
        }
      ]
    },
    {
      "cell_type": "code",
      "metadata": {
        "id": "GSpMjDMNa-Bg",
        "colab": {
          "base_uri": "https://localhost:8080/"
        },
        "outputId": "bd660178-a193-4392-c81b-dbcd8ec21bb9"
      },
      "source": [
        "# Lecture de la bande du rouge (B1) pour toute la série temporelle\n",
        "red_ts = []\n",
        "for img in lst_img:\n",
        "  red_ts.append( tifffile.imread(img)[:,:,0]) # Rouge\n",
        "red_ts = np.dstack(red_ts)\n",
        "red_ts.shape"
      ],
      "execution_count": 6,
      "outputs": [
        {
          "output_type": "execute_result",
          "data": {
            "text/plain": [
              "(5412, 5592, 8)"
            ]
          },
          "metadata": {
            "tags": []
          },
          "execution_count": 6
        }
      ]
    },
    {
      "cell_type": "code",
      "metadata": {
        "id": "X97WsP3kcTL1",
        "colab": {
          "base_uri": "https://localhost:8080/"
        },
        "outputId": "bfb41f3c-2af5-4628-b3cb-944ea8b4a8bc"
      },
      "source": [
        "# Lecture de la bande du vert (B2) pour toute la série temporelle\n",
        "green_ts = []\n",
        "for img in lst_img:\n",
        "  green_ts.append( tifffile.imread(img)[:,:,1]) # Vert\n",
        "green_ts = np.dstack(green_ts)\n",
        "green_ts.shape"
      ],
      "execution_count": 7,
      "outputs": [
        {
          "output_type": "execute_result",
          "data": {
            "text/plain": [
              "(5412, 5592, 8)"
            ]
          },
          "metadata": {
            "tags": []
          },
          "execution_count": 7
        }
      ]
    },
    {
      "cell_type": "code",
      "metadata": {
        "id": "t1GBdVCGcbcK",
        "colab": {
          "base_uri": "https://localhost:8080/"
        },
        "outputId": "35121b20-137a-4758-e5fc-38398576aedc"
      },
      "source": [
        "# Lecture de la bande du bleu (B3) pour toute la série temporelle\n",
        "blue_ts = []\n",
        "for img in lst_img:\n",
        "  blue_ts.append( tifffile.imread(img)[:,:,2]) # Bleu\n",
        "blue_ts = np.dstack(blue_ts)\n",
        "blue_ts.shape"
      ],
      "execution_count": 8,
      "outputs": [
        {
          "output_type": "execute_result",
          "data": {
            "text/plain": [
              "(5412, 5592, 8)"
            ]
          },
          "metadata": {
            "tags": []
          },
          "execution_count": 8
        }
      ]
    },
    {
      "cell_type": "code",
      "metadata": {
        "id": "fDd4BjV-cbz8",
        "colab": {
          "base_uri": "https://localhost:8080/"
        },
        "outputId": "ca1d2bbc-5617-46a4-f487-6c25d45f5927"
      },
      "source": [
        "# Lecture de la bande du proche infrarouge (B4) pour toute la série temporelle\n",
        "nir_ts = []\n",
        "for img in lst_img:\n",
        "  nir_ts.append( tifffile.imread(img)[:,:,3]) # Proche infra rouge\n",
        "nir_ts = np.dstack(nir_ts)\n",
        "nir_ts.shape"
      ],
      "execution_count": 9,
      "outputs": [
        {
          "output_type": "execute_result",
          "data": {
            "text/plain": [
              "(5412, 5592, 8)"
            ]
          },
          "metadata": {
            "tags": []
          },
          "execution_count": 9
        }
      ]
    },
    {
      "cell_type": "code",
      "metadata": {
        "id": "bJVBYJxuuJDA"
      },
      "source": [
        "# Calculer des indices spectraux comme le NDVI"
      ],
      "execution_count": null,
      "outputs": []
    },
    {
      "cell_type": "markdown",
      "metadata": {
        "id": "rOOWsKQHlHvS"
      },
      "source": [
        "#### **Normalisation en utilisant le min et le max des bandes sur les séries temporelles**"
      ]
    },
    {
      "cell_type": "code",
      "metadata": {
        "id": "IoOk5-UccvSe",
        "colab": {
          "base_uri": "https://localhost:8080/"
        },
        "outputId": "022c590a-aa65-4e82-f270-0ff4593cc863"
      },
      "source": [
        "# Normalisation des séries temporelles par bande: Rouge\n",
        "red_ts_norm = ( red_ts - red_ts.min() ) / ( red_ts.max() - red_ts.min() ).astype(np.float32)\n",
        "red_ts_norm.min() , red_ts_norm.max(), red_ts_norm.shape, red_ts_norm.dtype"
      ],
      "execution_count": 10,
      "outputs": [
        {
          "output_type": "execute_result",
          "data": {
            "text/plain": [
              "(0.0, 1.0, (5412, 5592, 8), dtype('float32'))"
            ]
          },
          "metadata": {
            "tags": []
          },
          "execution_count": 10
        }
      ]
    },
    {
      "cell_type": "code",
      "metadata": {
        "id": "-c1DlhJTe_6h",
        "colab": {
          "base_uri": "https://localhost:8080/"
        },
        "outputId": "2ce6fb58-4f8c-44b6-8274-c3d552766cdf"
      },
      "source": [
        "# Normalisation des séries temporelles par bande: Vert\n",
        "green_ts_norm = ( green_ts - green_ts.min() ) / ( green_ts.max() - green_ts.min() ).astype(np.float32)\n",
        "green_ts = None\n",
        "green_ts_norm.min() , green_ts_norm.max(), green_ts_norm.shape, green_ts_norm.dtype"
      ],
      "execution_count": 11,
      "outputs": [
        {
          "output_type": "execute_result",
          "data": {
            "text/plain": [
              "(0.0, 1.0, (5412, 5592, 8), dtype('float32'))"
            ]
          },
          "metadata": {
            "tags": []
          },
          "execution_count": 11
        }
      ]
    },
    {
      "cell_type": "code",
      "metadata": {
        "id": "hFNAbyIyfAJT",
        "colab": {
          "base_uri": "https://localhost:8080/"
        },
        "outputId": "1b6ea95f-585d-4f95-94a1-f79291f004fa"
      },
      "source": [
        "# Normalisation des séries temporelles par bande: Bleu\n",
        "blue_ts_norm = ( blue_ts - blue_ts.min() ) / ( blue_ts.max() - blue_ts.min() ).astype(np.float32)\n",
        "blue_ts = None\n",
        "blue_ts_norm.min() , blue_ts_norm.max(), blue_ts_norm.shape, blue_ts_norm.dtype"
      ],
      "execution_count": 12,
      "outputs": [
        {
          "output_type": "execute_result",
          "data": {
            "text/plain": [
              "(0.0, 1.0, (5412, 5592, 8), dtype('float32'))"
            ]
          },
          "metadata": {
            "tags": []
          },
          "execution_count": 12
        }
      ]
    },
    {
      "cell_type": "code",
      "metadata": {
        "id": "epIhb6brfAUK",
        "colab": {
          "base_uri": "https://localhost:8080/"
        },
        "outputId": "c6ec45d9-4e4b-4b11-91e9-a6a74372dfbf"
      },
      "source": [
        "# Normalisation des séries temporelles par bande: Proche infrarouge\n",
        "nir_ts_norm = ( nir_ts - nir_ts.min() ) / ( nir_ts.max() - nir_ts.min() ).astype(np.float32)\n",
        "nir_ts_norm.min() , nir_ts_norm.max(), nir_ts_norm.shape, nir_ts_norm.dtype"
      ],
      "execution_count": 13,
      "outputs": [
        {
          "output_type": "execute_result",
          "data": {
            "text/plain": [
              "(0.0, 1.0, (5412, 5592, 8), dtype('float32'))"
            ]
          },
          "metadata": {
            "tags": []
          },
          "execution_count": 13
        }
      ]
    },
    {
      "cell_type": "code",
      "metadata": {
        "id": "tAtrTnz_uQ2Y"
      },
      "source": [
        "# Normaliser les indices spectraux que vous aurez calculé"
      ],
      "execution_count": null,
      "outputs": []
    },
    {
      "cell_type": "markdown",
      "metadata": {
        "id": "YDQUbh3Nkpn7"
      },
      "source": [
        "### **Lecture de la vérité terrain et récupération des positions des pixels du jeu d'entraînement et de test**"
      ]
    },
    {
      "cell_type": "markdown",
      "metadata": {
        "id": "V_mXEBEKmuw7"
      },
      "source": [
        "#### **Lecture des fichiers de la vérité terrain**"
      ]
    },
    {
      "cell_type": "code",
      "metadata": {
        "id": "NBCQhbMUoBJU",
        "colab": {
          "base_uri": "https://localhost:8080/"
        },
        "outputId": "9d36a2d1-ba78-4ef6-e84b-eb3caac54f79"
      },
      "source": [
        "# Lire le fichier correspondant aux classes d'occupation du sol\n",
        "gt_class = tifffile.imread ('Verite_terrain/DORDOGNE_VT_CLASS.tif')\n",
        "gt_class.shape , gt_class.dtype"
      ],
      "execution_count": 14,
      "outputs": [
        {
          "output_type": "execute_result",
          "data": {
            "text/plain": [
              "((5412, 5592), dtype('uint8'))"
            ]
          },
          "metadata": {
            "tags": []
          },
          "execution_count": 14
        }
      ]
    },
    {
      "cell_type": "code",
      "metadata": {
        "id": "JLnTil_psMLW",
        "colab": {
          "base_uri": "https://localhost:8080/"
        },
        "outputId": "a4c9365f-ed83-4159-a7e0-ea713c7bea13"
      },
      "source": [
        "# Lire le fichier correspondant aux identifiants\n",
        "gt_id = tifffile.imread ('Verite_terrain/DORDOGNE_VT_ID.tif')\n",
        "gt_id.shape, gt_id.dtype"
      ],
      "execution_count": 15,
      "outputs": [
        {
          "output_type": "execute_result",
          "data": {
            "text/plain": [
              "((5412, 5592), dtype('int16'))"
            ]
          },
          "metadata": {
            "tags": []
          },
          "execution_count": 15
        }
      ]
    },
    {
      "cell_type": "markdown",
      "metadata": {
        "id": "RjyGTdRpm5ii"
      },
      "source": [
        "#### **Récupération des positions des pixels d'entraînement et de test**"
      ]
    },
    {
      "cell_type": "code",
      "metadata": {
        "id": "yosWk1_BgiLE"
      },
      "source": [
        "# Récupérer les positions des échantillons d'entraînement et test\n",
        "idx_train_ = np.where ( (gt_id!=0) & (gt_class!=0) )\n",
        "idx_test = np.where ( (gt_id!=0) & (gt_class==0) )"
      ],
      "execution_count": 16,
      "outputs": []
    },
    {
      "cell_type": "code",
      "metadata": {
        "id": "uRX0xj4zjvVY",
        "colab": {
          "base_uri": "https://localhost:8080/",
          "height": 37
        },
        "outputId": "1561b4be-6c64-4e62-9042-5cecfa205f7b"
      },
      "source": [
        "# Lecture des identifiants et labels des échantillons d'entraînement\n",
        "train_id_ = gt_id[idx_train_]\n",
        "train_y_ = gt_class[idx_train_]\n",
        "f'échantillons d\\'entrainement: {train_y_.shape[0]} pixels, {len(np.unique(train_id_))} objets'"
      ],
      "execution_count": 17,
      "outputs": [
        {
          "output_type": "execute_result",
          "data": {
            "application/vnd.google.colaboratory.intrinsic+json": {
              "type": "string"
            },
            "text/plain": [
              "\"échantillons d'entrainement: 605431 pixels, 1859 objets\""
            ]
          },
          "metadata": {
            "tags": []
          },
          "execution_count": 17
        }
      ]
    },
    {
      "cell_type": "code",
      "metadata": {
        "id": "kiPCaHQ2jtZu",
        "colab": {
          "base_uri": "https://localhost:8080/",
          "height": 37
        },
        "outputId": "afba3568-9110-4152-960a-135e1b900d5b"
      },
      "source": [
        "# Lecture des identifiants et labels des échantillons de test\n",
        "test_id = gt_id[idx_test]\n",
        "f'échantillons test: {test_id.shape[0]} pixels, {len(np.unique(test_id))} objets'"
      ],
      "execution_count": 18,
      "outputs": [
        {
          "output_type": "execute_result",
          "data": {
            "application/vnd.google.colaboratory.intrinsic+json": {
              "type": "string"
            },
            "text/plain": [
              "'échantillons test: 207485 pixels, 800 objets'"
            ]
          },
          "metadata": {
            "tags": []
          },
          "execution_count": 18
        }
      ]
    },
    {
      "cell_type": "markdown",
      "metadata": {
        "id": "hNFyNkc5oc6z"
      },
      "source": [
        "### **Création d'un jeu de validation en prenant une partie du jeu d'entraînement**\n",
        "Pour cela, on s'assure de faire la division en mettant les pixels ayant le même identifiant dans un seul et même lot"
      ]
    },
    {
      "cell_type": "code",
      "metadata": {
        "id": "2hI-jAEqrac1",
        "colab": {
          "base_uri": "https://localhost:8080/",
          "height": 204
        },
        "outputId": "cab2b16a-d1e7-4559-ba07-524130cd45b1"
      },
      "source": [
        "# Dataframe pour créer un jeu de validation\n",
        "samples = pd.DataFrame({'ID':train_id_,'Class':train_y_})\n",
        "samples = samples.drop_duplicates(keep='first')\n",
        "samples.head(5)"
      ],
      "execution_count": 19,
      "outputs": [
        {
          "output_type": "execute_result",
          "data": {
            "text/html": [
              "<div>\n",
              "<style scoped>\n",
              "    .dataframe tbody tr th:only-of-type {\n",
              "        vertical-align: middle;\n",
              "    }\n",
              "\n",
              "    .dataframe tbody tr th {\n",
              "        vertical-align: top;\n",
              "    }\n",
              "\n",
              "    .dataframe thead th {\n",
              "        text-align: right;\n",
              "    }\n",
              "</style>\n",
              "<table border=\"1\" class=\"dataframe\">\n",
              "  <thead>\n",
              "    <tr style=\"text-align: right;\">\n",
              "      <th></th>\n",
              "      <th>ID</th>\n",
              "      <th>Class</th>\n",
              "    </tr>\n",
              "  </thead>\n",
              "  <tbody>\n",
              "    <tr>\n",
              "      <th>0</th>\n",
              "      <td>422</td>\n",
              "      <td>2</td>\n",
              "    </tr>\n",
              "    <tr>\n",
              "      <th>4</th>\n",
              "      <td>2677</td>\n",
              "      <td>5</td>\n",
              "    </tr>\n",
              "    <tr>\n",
              "      <th>5</th>\n",
              "      <td>201</td>\n",
              "      <td>3</td>\n",
              "    </tr>\n",
              "    <tr>\n",
              "      <th>29</th>\n",
              "      <td>423</td>\n",
              "      <td>2</td>\n",
              "    </tr>\n",
              "    <tr>\n",
              "      <th>100</th>\n",
              "      <td>496</td>\n",
              "      <td>2</td>\n",
              "    </tr>\n",
              "  </tbody>\n",
              "</table>\n",
              "</div>"
            ],
            "text/plain": [
              "       ID  Class\n",
              "0     422      2\n",
              "4    2677      5\n",
              "5     201      3\n",
              "29    423      2\n",
              "100   496      2"
            ]
          },
          "metadata": {
            "tags": []
          },
          "execution_count": 19
        }
      ]
    },
    {
      "cell_type": "code",
      "metadata": {
        "id": "894SPjgRs_S7",
        "colab": {
          "base_uri": "https://localhost:8080/"
        },
        "outputId": "b904e163-fa50-4998-ccf7-45d37b12005a"
      },
      "source": [
        "# 30% des échantillons de chaque classe affecté au jeu de validation\n",
        "train_id = []\n",
        "valid_id = []\n",
        "for c in np.unique(samples.Class.values) :\n",
        "    samples_c = samples.loc[samples.Class==c]\n",
        "    samples_frac = samples_c.sample(frac=0.7,random_state=1234) \n",
        "    train_id.extend( samples_frac.ID.values )\n",
        "    valid_id.extend( samples_c.drop(samples_frac.index).ID.values )\n",
        "len(train_id),len(valid_id)"
      ],
      "execution_count": 20,
      "outputs": [
        {
          "output_type": "execute_result",
          "data": {
            "text/plain": [
              "(1301, 558)"
            ]
          },
          "metadata": {
            "tags": []
          },
          "execution_count": 20
        }
      ]
    },
    {
      "cell_type": "markdown",
      "metadata": {
        "id": "6J609q3BrKRk"
      },
      "source": [
        "### **Récupération des positions des nouveaux échantillons d'entraînement et de validation**"
      ]
    },
    {
      "cell_type": "code",
      "metadata": {
        "id": "WmVBWpvFdjlk"
      },
      "source": [
        "# Récupérer les positions des nouveaux échantillons d'entraînement et validation\n",
        "idx_train = np.where ( np.isin(gt_id,train_id) )\n",
        "idx_valid = np.where ( np.isin(gt_id,valid_id) )"
      ],
      "execution_count": 21,
      "outputs": []
    },
    {
      "cell_type": "markdown",
      "metadata": {
        "id": "3U6m2R-UwEFK"
      },
      "source": [
        "### **Lire finalement les labels correspondant aux nouveaux échantillons d'entraînement, de validation et test**"
      ]
    },
    {
      "cell_type": "code",
      "metadata": {
        "id": "vF_PEzn3vQzT",
        "colab": {
          "base_uri": "https://localhost:8080/"
        },
        "outputId": "172bc215-9805-4d1b-b28a-44c268469d3f"
      },
      "source": [
        "train_y = gt_class[idx_train]\n",
        "valid_y = gt_class[idx_valid]\n",
        "test_y = gt_class[idx_test]\n",
        "train_y.shape, valid_y.shape, test_y.shape"
      ],
      "execution_count": 22,
      "outputs": [
        {
          "output_type": "execute_result",
          "data": {
            "text/plain": [
              "((451962,), (153469,), (207485,))"
            ]
          },
          "metadata": {
            "tags": []
          },
          "execution_count": 22
        }
      ]
    },
    {
      "cell_type": "markdown",
      "metadata": {
        "id": "lAt4KCeZR1Os"
      },
      "source": [
        "### **Lire finalement les identifiants correspondant aux nouveaux échantillons d'entraînement, de validation et test**"
      ]
    },
    {
      "cell_type": "code",
      "metadata": {
        "id": "m3SiC0eVRvtA",
        "colab": {
          "base_uri": "https://localhost:8080/"
        },
        "outputId": "c056c845-2036-4522-db81-500923477c79"
      },
      "source": [
        "# utile pour les aggrégations au niveau objet\n",
        "# train_id_array = gt_id[idx_train] # Pas vraiment nécessaire pour les échantillons d'entraînements\n",
        "valid_id_array = gt_id[idx_valid]\n",
        "test_id_array = gt_id[idx_test]\n",
        "#train_id_array.shape, \n",
        "valid_id_array.shape, test_id_array.shape"
      ],
      "execution_count": 23,
      "outputs": [
        {
          "output_type": "execute_result",
          "data": {
            "text/plain": [
              "((153469,), (207485,))"
            ]
          },
          "metadata": {
            "tags": []
          },
          "execution_count": 23
        }
      ]
    },
    {
      "cell_type": "markdown",
      "metadata": {
        "id": "xa-8J5r9r3KI"
      },
      "source": [
        "### **Lire finalement les valeurs des séries temporelles correspondant aux nouveaux échantillons d'entraînement, de validation et test**"
      ]
    },
    {
      "cell_type": "markdown",
      "metadata": {
        "id": "PXS90K1Vsg4H"
      },
      "source": [
        "#### **Pour un Perceptron multi-couche**"
      ]
    },
    {
      "cell_type": "code",
      "metadata": {
        "id": "TwjGd9exkFia",
        "colab": {
          "base_uri": "https://localhost:8080/"
        },
        "outputId": "cf698996-8dc8-4d3f-8d28-c8719cb217a3"
      },
      "source": [
        "# Un perceptron multi-couche ou un algo classique de machine learning requiert un tableau 2D du type \n",
        "# (nombre d'échantillons, nombre de features=(nombre de dates x nombre de bandes))\n",
        "# Vous pouvez rajouter au stack les indices spectraux normalisés que vous aurez calculé\n",
        "\n",
        "train_X = np.column_stack ( ( blue_ts_norm[idx_train], green_ts_norm[idx_train], red_ts_norm[idx_train], nir_ts_norm[idx_train] ) )\n",
        "\n",
        "valid_X = np.column_stack ( ( blue_ts_norm[idx_valid], green_ts_norm[idx_valid], red_ts_norm[idx_valid], nir_ts_norm[idx_valid] ) )\n",
        "\n",
        "test_X = np.column_stack ( ( blue_ts_norm[idx_test], green_ts_norm[idx_test], red_ts_norm[idx_test], nir_ts_norm[idx_test] ) )\n",
        "\n",
        "train_X.shape, valid_X.shape, test_X.shape"
      ],
      "execution_count": 24,
      "outputs": [
        {
          "output_type": "execute_result",
          "data": {
            "text/plain": [
              "((451962, 32), (153469, 32), (207485, 32))"
            ]
          },
          "metadata": {
            "tags": []
          },
          "execution_count": 24
        }
      ]
    },
    {
      "cell_type": "markdown",
      "metadata": {
        "id": "YqabJEyUtgPX"
      },
      "source": [
        "#### **Pour un CNN 1D ou temporel**"
      ]
    },
    {
      "cell_type": "code",
      "metadata": {
        "id": "bdZa5w9ztkCk",
        "colab": {
          "base_uri": "https://localhost:8080/"
        },
        "outputId": "787ce289-ba60-41d4-a42a-197b4715dbb9"
      },
      "source": [
        "# Un CNN 1D ou temporel requiert un tableau 3D du type (nombre d'échantillons, nombre de dates, nombre de bandes)\n",
        "# Vous pouvez rajouter à la liste des bandes les indices spectraux normalisés que vous aurez calculé\n",
        "train_X = []\n",
        "for band in [blue_ts_norm,green_ts_norm,red_ts_norm,nir_ts_norm]:\n",
        "    train_X.append( band[idx_train] ) \n",
        "train_X = np.stack(train_X,axis=-1)\n",
        "\n",
        "valid_X = []\n",
        "for band in [blue_ts_norm,green_ts_norm,red_ts_norm,nir_ts_norm]:\n",
        "    valid_X.append( band[idx_valid] ) \n",
        "valid_X = np.stack(valid_X,axis=-1)\n",
        "\n",
        "test_X = []\n",
        "for band in [blue_ts_norm,green_ts_norm,red_ts_norm,nir_ts_norm]:\n",
        "    test_X.append( band[idx_test] ) \n",
        "test_X = np.stack(test_X,axis=-1)\n",
        "\n",
        "train_X.shape, valid_X.shape, test_X.shape"
      ],
      "execution_count": null,
      "outputs": [
        {
          "output_type": "execute_result",
          "data": {
            "text/plain": [
              "((451962, 8, 4), (153469, 8, 4), (207485, 8, 4))"
            ]
          },
          "metadata": {
            "tags": []
          },
          "execution_count": 71
        }
      ]
    },
    {
      "cell_type": "markdown",
      "metadata": {
        "id": "oRTUKBQBwd1V"
      },
      "source": [
        "#### **Pour un CNN2D ou spatial avec exemple d'imagettes ou patchs de 5 sur 5 en largeur et hauteur** \n",
        "\n",
        "Des patchs de 9 sur 9 sur l'ensemble des échantillons sont un peu trop gourmands en RAM pour Google Colab"
      ]
    },
    {
      "cell_type": "code",
      "metadata": {
        "id": "rBZ2s4zGwc8C",
        "colab": {
          "base_uri": "https://localhost:8080/"
        },
        "outputId": "e8ff9f8b-7bb0-45be-a591-79f9519d4de4"
      },
      "source": [
        "# Un CNN 2D ou spatial requiert un tableau 3D du type (nombre d'échantillons, largeur, hauteur, nombre de features= (nombre de dates x nombre de bandes) )\n",
        "# Vous pouvez rajouter à la liste des bandes les indices spectraux normalisés que vous aurez calculé\n",
        "\n",
        "# Training\n",
        "# 1- précaution pour ne pas considérer les pixels dont on ne peut extraire des patchs car trop près du bord\n",
        "idx_col = idx_train[0]\n",
        "idx_row = idx_train[1]\n",
        "coords = np.column_stack((idx_col,idx_row))\n",
        "coords = coords[np.where( ( np.isin(coords[:,0],np.arange(2,blue_ts_norm.shape[0]-2,1)) ) & ( np.isin(coords[:,1],np.arange(2,blue_ts_norm.shape[1]-2,1)) ) ) ]\n",
        "# len(coords)\n",
        "# 2- créer un tableau avec les patchs\n",
        "train_X = []\n",
        "for coord in coords :\n",
        "  lst = []\n",
        "  for band in [blue_ts_norm,green_ts_norm,red_ts_norm,nir_ts_norm]:\n",
        "    lst.append( band[coord[0]-2:coord[0]+3,coord[1]-2:coord[1]+3] )\n",
        "  train_X.append(np.stack(lst,axis=-1).reshape(5,5,-1))\n",
        "train_X = np.stack(train_X,axis=0)\n",
        "train_X.shape"
      ],
      "execution_count": null,
      "outputs": [
        {
          "output_type": "execute_result",
          "data": {
            "text/plain": [
              "(451962, 5, 5, 32)"
            ]
          },
          "metadata": {
            "tags": []
          },
          "execution_count": 105
        }
      ]
    },
    {
      "cell_type": "code",
      "metadata": {
        "id": "QGuBV7PrsdBf",
        "colab": {
          "base_uri": "https://localhost:8080/",
          "height": 181
        },
        "outputId": "3e66d06b-00cc-4ab7-ce15-091a4ff1d615"
      },
      "source": [
        "train_X[:,2,2,:,:].reshape(train_X.shape[0],-1).shape, train_X[:,2,2,:,:].shape, train_X.reshape(train_X.shape[0],5,5,-1).shape"
      ],
      "execution_count": null,
      "outputs": [
        {
          "output_type": "error",
          "ename": "IndexError",
          "evalue": "ignored",
          "traceback": [
            "\u001b[0;31m---------------------------------------------------------------------------\u001b[0m",
            "\u001b[0;31mIndexError\u001b[0m                                Traceback (most recent call last)",
            "\u001b[0;32m<ipython-input-28-9ed541796f92>\u001b[0m in \u001b[0;36m<module>\u001b[0;34m()\u001b[0m\n\u001b[0;32m----> 1\u001b[0;31m \u001b[0mtrain_X\u001b[0m\u001b[0;34m[\u001b[0m\u001b[0;34m:\u001b[0m\u001b[0;34m,\u001b[0m\u001b[0;36m2\u001b[0m\u001b[0;34m,\u001b[0m\u001b[0;36m2\u001b[0m\u001b[0;34m,\u001b[0m\u001b[0;34m:\u001b[0m\u001b[0;34m,\u001b[0m\u001b[0;34m:\u001b[0m\u001b[0;34m]\u001b[0m\u001b[0;34m.\u001b[0m\u001b[0mreshape\u001b[0m\u001b[0;34m(\u001b[0m\u001b[0mtrain_X\u001b[0m\u001b[0;34m.\u001b[0m\u001b[0mshape\u001b[0m\u001b[0;34m[\u001b[0m\u001b[0;36m0\u001b[0m\u001b[0;34m]\u001b[0m\u001b[0;34m,\u001b[0m\u001b[0;34m-\u001b[0m\u001b[0;36m1\u001b[0m\u001b[0;34m)\u001b[0m\u001b[0;34m.\u001b[0m\u001b[0mshape\u001b[0m\u001b[0;34m,\u001b[0m \u001b[0mtrain_X\u001b[0m\u001b[0;34m[\u001b[0m\u001b[0;34m:\u001b[0m\u001b[0;34m,\u001b[0m\u001b[0;36m2\u001b[0m\u001b[0;34m,\u001b[0m\u001b[0;36m2\u001b[0m\u001b[0;34m,\u001b[0m\u001b[0;34m:\u001b[0m\u001b[0;34m,\u001b[0m\u001b[0;34m:\u001b[0m\u001b[0;34m]\u001b[0m\u001b[0;34m.\u001b[0m\u001b[0mshape\u001b[0m\u001b[0;34m,\u001b[0m \u001b[0mtrain_X\u001b[0m\u001b[0;34m.\u001b[0m\u001b[0mreshape\u001b[0m\u001b[0;34m(\u001b[0m\u001b[0mtrain_X\u001b[0m\u001b[0;34m.\u001b[0m\u001b[0mshape\u001b[0m\u001b[0;34m[\u001b[0m\u001b[0;36m0\u001b[0m\u001b[0;34m]\u001b[0m\u001b[0;34m,\u001b[0m\u001b[0;36m5\u001b[0m\u001b[0;34m,\u001b[0m\u001b[0;36m5\u001b[0m\u001b[0;34m,\u001b[0m\u001b[0;34m-\u001b[0m\u001b[0;36m1\u001b[0m\u001b[0;34m)\u001b[0m\u001b[0;34m.\u001b[0m\u001b[0mshape\u001b[0m\u001b[0;34m\u001b[0m\u001b[0;34m\u001b[0m\u001b[0m\n\u001b[0m",
            "\u001b[0;31mIndexError\u001b[0m: too many indices for array"
          ]
        }
      ]
    },
    {
      "cell_type": "code",
      "metadata": {
        "id": "q_oQ0Mu3txQU",
        "colab": {
          "base_uri": "https://localhost:8080/"
        },
        "outputId": "25d8e0aa-dc72-4c37-fbc1-8bb2a3a7a715"
      },
      "source": [
        "train_y.shape, np.unique(train_y)"
      ],
      "execution_count": null,
      "outputs": [
        {
          "output_type": "execute_result",
          "data": {
            "text/plain": [
              "((451962,), array([1, 2, 3, 4, 5], dtype=uint8))"
            ]
          },
          "metadata": {
            "tags": []
          },
          "execution_count": 30
        }
      ]
    },
    {
      "cell_type": "code",
      "metadata": {
        "id": "0KDmRqABuN_3",
        "colab": {
          "base_uri": "https://localhost:8080/",
          "height": 164
        },
        "outputId": "2256c2d9-9a42-4afb-b687-56bb5ae2a91b"
      },
      "source": [
        "train_X[:,1:4,1:4,:,:].shape"
      ],
      "execution_count": null,
      "outputs": [
        {
          "output_type": "error",
          "ename": "IndexError",
          "evalue": "ignored",
          "traceback": [
            "\u001b[0;31m---------------------------------------------------------------------------\u001b[0m",
            "\u001b[0;31mIndexError\u001b[0m                                Traceback (most recent call last)",
            "\u001b[0;32m<ipython-input-31-44e9364ac956>\u001b[0m in \u001b[0;36m<module>\u001b[0;34m()\u001b[0m\n\u001b[0;32m----> 1\u001b[0;31m \u001b[0mtrain_X\u001b[0m\u001b[0;34m[\u001b[0m\u001b[0;34m:\u001b[0m\u001b[0;34m,\u001b[0m\u001b[0;36m1\u001b[0m\u001b[0;34m:\u001b[0m\u001b[0;36m4\u001b[0m\u001b[0;34m,\u001b[0m\u001b[0;36m1\u001b[0m\u001b[0;34m:\u001b[0m\u001b[0;36m4\u001b[0m\u001b[0;34m,\u001b[0m\u001b[0;34m:\u001b[0m\u001b[0;34m,\u001b[0m\u001b[0;34m:\u001b[0m\u001b[0;34m]\u001b[0m\u001b[0;34m.\u001b[0m\u001b[0mshape\u001b[0m\u001b[0;34m\u001b[0m\u001b[0;34m\u001b[0m\u001b[0m\n\u001b[0m",
            "\u001b[0;31mIndexError\u001b[0m: too many indices for array"
          ]
        }
      ]
    },
    {
      "cell_type": "code",
      "metadata": {
        "id": "RhLlxu5j0O72",
        "colab": {
          "base_uri": "https://localhost:8080/"
        },
        "outputId": "4cd0db96-08ad-4609-d9b6-4bd6dc88032d"
      },
      "source": [
        "# Validation\n",
        "# 1- précaution pour ne pas considérer les pixels dont on ne peut extraire des patchs car trop près du bord\n",
        "idx_col = idx_valid[0]\n",
        "idx_row = idx_valid[1]\n",
        "coords = np.column_stack((idx_col,idx_row))\n",
        "coords = coords[np.where( ( np.isin(coords[:,0],np.arange(2,blue_ts_norm.shape[0]-2,1)) ) & ( np.isin(coords[:,1],np.arange(2,blue_ts_norm.shape[1]-2,1)) ) ) ]\n",
        "# len(coords)\n",
        "# 2- créer un tableau avec les patchs\n",
        "valid_X = []\n",
        "for coord in coords :\n",
        "  lst = []\n",
        "  for band in [blue_ts_norm,green_ts_norm,red_ts_norm,nir_ts_norm]:\n",
        "    lst.append( band[coord[0]-2:coord[0]+3,coord[1]-2:coord[1]+3] )\n",
        "  valid_X.append(np.stack(lst,axis=-1).reshape(5,5,-1))\n",
        "valid_X = np.stack(valid_X,axis=0)\n",
        "valid_X.shape"
      ],
      "execution_count": null,
      "outputs": [
        {
          "output_type": "execute_result",
          "data": {
            "text/plain": [
              "(153469, 5, 5, 32)"
            ]
          },
          "metadata": {
            "tags": []
          },
          "execution_count": 106
        }
      ]
    },
    {
      "cell_type": "code",
      "metadata": {
        "id": "0VR_nM9W0QkB",
        "colab": {
          "base_uri": "https://localhost:8080/"
        },
        "outputId": "b0d1f97d-0fae-4cd4-ec54-41b0e1362524"
      },
      "source": [
        "# Test\n",
        "# 1- précaution pour ne pas considérer les pixels dont on ne peut extraire des patchs car trop près du bord\n",
        "idx_col = idx_test[0]\n",
        "idx_row = idx_test[1]\n",
        "coords = np.column_stack((idx_col,idx_row))\n",
        "coords = coords[np.where( ( np.isin(coords[:,0],np.arange(2,blue_ts_norm.shape[0]-2,1)) ) & ( np.isin(coords[:,1],np.arange(2,blue_ts_norm.shape[1]-2,1)) ) ) ]\n",
        "# len(coords)\n",
        "# 2- créer un tableau avec les patchs\n",
        "test_X = []\n",
        "for coord in coords :\n",
        "  lst = []\n",
        "  for band in [blue_ts_norm,green_ts_norm,red_ts_norm,nir_ts_norm]:\n",
        "    lst.append( band[coord[0]-2:coord[0]+3,coord[1]-2:coord[1]+3] )\n",
        "  test_X.append(np.stack(lst,axis=-1).reshape(5,5,-1))\n",
        "test_X = np.stack(test_X,axis=0)\n",
        "test_X.shape"
      ],
      "execution_count": null,
      "outputs": [
        {
          "output_type": "execute_result",
          "data": {
            "text/plain": [
              "(207485, 5, 5, 32)"
            ]
          },
          "metadata": {
            "tags": []
          },
          "execution_count": 107
        }
      ]
    },
    {
      "cell_type": "markdown",
      "metadata": {
        "id": "oiqM_sYRt5IL"
      },
      "source": [
        "### **Sauvegarde des données d'entraînement, de validation et test en fichier numpy**"
      ]
    },
    {
      "cell_type": "code",
      "metadata": {
        "id": "dPiv0fo3uJ8s"
      },
      "source": [
        "# Ainsi de cette façon vous pourrez continuer directement avec la création des modèles et en libérant la mémoire de tout ce qui a été fait précédemment\n",
        "Path('data').mkdir(exist_ok=True, parents=True)\n",
        "np.save('data/train_X.npy',train_X)\n",
        "np.save('data/train_y.npy',train_y)\n",
        "# np.save('data/train_id.npy',train_id_array)\n",
        "\n",
        "np.save('data/valid_X.npy',valid_X)\n",
        "np.save('data/valid_y.npy',valid_y)\n",
        "np.save('data/valid_id.npy',valid_id_array)\n",
        "\n",
        "np.save('data/test_X.npy',test_X)\n",
        "np.save('data/test_id.npy',test_id_array)"
      ],
      "execution_count": 25,
      "outputs": []
    },
    {
      "cell_type": "markdown",
      "metadata": {
        "id": "TOM6_mv--8IX"
      },
      "source": [
        "Videz la mémoire en redémarrant l'environnement d'exécution"
      ]
    },
    {
      "cell_type": "markdown",
      "metadata": {
        "id": "qv0jts6w6nxr"
      },
      "source": [
        "# **Votre modèle de deep learning**"
      ]
    },
    {
      "cell_type": "markdown",
      "metadata": {
        "id": "wmBRjg3QFrLe"
      },
      "source": [
        "### **Remontage de Drive et Importation de quelques librairies**"
      ]
    },
    {
      "cell_type": "code",
      "metadata": {
        "id": "rJUrD-aVMaN0",
        "colab": {
          "base_uri": "https://localhost:8080/"
        },
        "outputId": "df41d97f-b6d5-4d0c-d443-2cb093527328"
      },
      "source": [
        "from google.colab import drive\n",
        "drive.mount('/content/drive')"
      ],
      "execution_count": 26,
      "outputs": [
        {
          "output_type": "stream",
          "text": [
            "Drive already mounted at /content/drive; to attempt to forcibly remount, call drive.mount(\"/content/drive\", force_remount=True).\n"
          ],
          "name": "stdout"
        }
      ]
    },
    {
      "cell_type": "code",
      "metadata": {
        "id": "_K5Xk6WeALcH"
      },
      "source": [
        "import os\n",
        "os.chdir('/content/drive/My Drive/Projet_HMIN339M')\n",
        "import numpy as np\n",
        "import pandas as pd\n",
        "import tifffile\n",
        "from pathlib import Path\n",
        "from sklearn.metrics import f1_score, confusion_matrix\n",
        "from sklearn.preprocessing import LabelEncoder\n",
        "import tensorflow as tf\n",
        "from tensorflow.keras.layers import Dense, Dropout, Activation, Flatten, Conv2D, Conv1D, GlobalAveragePooling1D, GlobalAveragePooling2D, BatchNormalization\n",
        "from tensorflow.keras.models import Sequential"
      ],
      "execution_count": 27,
      "outputs": []
    },
    {
      "cell_type": "markdown",
      "metadata": {
        "id": "UlRFSn7f_yKx"
      },
      "source": [
        "### **Recharger les données d'entraînement, de validation et test en fichier numpy**"
      ]
    },
    {
      "cell_type": "code",
      "metadata": {
        "id": "CVzkEkQA-jM7",
        "colab": {
          "base_uri": "https://localhost:8080/"
        },
        "outputId": "68acced5-cb5a-4b14-9b56-3a870bb777cd"
      },
      "source": [
        "# Recharger les données après avoir vidé la mémoire\n",
        "train_X = np.load('data/train_X.npy')\n",
        "train_y = np.load('data/train_y.npy')\n",
        "\n",
        "valid_X = np.load('data/valid_X.npy')\n",
        "valid_y = np.load('data/valid_y.npy')\n",
        "valid_id = np.load('data/valid_id.npy')\n",
        "\n",
        "test_X = np.load('data/test_X.npy')\n",
        "test_id = np.load('data/test_id.npy')\n",
        "train_X.shape, train_y.shape, valid_X.shape, valid_y.shape, valid_id.shape, test_X.shape, test_id.shape"
      ],
      "execution_count": 28,
      "outputs": [
        {
          "output_type": "execute_result",
          "data": {
            "text/plain": [
              "((451962, 32),\n",
              " (451962,),\n",
              " (153469, 32),\n",
              " (153469,),\n",
              " (153469,),\n",
              " (207485, 32),\n",
              " (207485,))"
            ]
          },
          "metadata": {
            "tags": []
          },
          "execution_count": 28
        }
      ]
    },
    {
      "cell_type": "markdown",
      "metadata": {
        "id": "K23T_c-EAj_z"
      },
      "source": [
        "### **Encoder les labels entre 0 et 4 de sorte à matcher les prédictions des réseaux de neurones**"
      ]
    },
    {
      "cell_type": "code",
      "metadata": {
        "id": "FY74aok1Arfi",
        "colab": {
          "base_uri": "https://localhost:8080/"
        },
        "outputId": "281ae038-f794-49e4-dc7c-ccb825774e07"
      },
      "source": [
        "encoder = LabelEncoder()\n",
        "encoder.fit(train_y)\n",
        "train_y_enc = encoder.transform(train_y)\n",
        "valid_y_enc = encoder.transform(valid_y)\n",
        "np.unique(train_y), np.unique(train_y_enc), np.unique(valid_y), np.unique(valid_y_enc)"
      ],
      "execution_count": 29,
      "outputs": [
        {
          "output_type": "execute_result",
          "data": {
            "text/plain": [
              "(array([1, 2, 3, 4, 5], dtype=uint8),\n",
              " array([0, 1, 2, 3, 4]),\n",
              " array([1, 2, 3, 4, 5], dtype=uint8),\n",
              " array([0, 1, 2, 3, 4]))"
            ]
          },
          "metadata": {
            "tags": []
          },
          "execution_count": 29
        }
      ]
    },
    {
      "cell_type": "markdown",
      "metadata": {
        "id": "GpH3oJPVE3uE"
      },
      "source": [
        "### **Définition séquentielle de votre modèle avec Keras**\n",
        "\n",
        "N'oubliez pas de spécifier l'input shape qui varie en fonction des types d'architectures, le nombre de neurones de la couche de sortie qui équivaut au nombre de classes que vous avez et de l'activer avec une fonction Softmax"
      ]
    },
    {
      "cell_type": "markdown",
      "metadata": {
        "id": "EbCg987GouMK"
      },
      "source": [
        "mlp\n"
      ]
    },
    {
      "cell_type": "code",
      "metadata": {
        "id": "JbyoY8akotko"
      },
      "source": [
        "import tensorflow as tf\n",
        "from tensorflow.keras.datasets import mnist\n",
        "from tensorflow.keras.models import Sequential\n",
        "from tensorflow.keras.layers import Dense\n",
        "from tensorflow.keras.utils import to_categorical\n",
        "\n",
        "from tensorflow.keras.layers import Dropout, Activation, Flatten, Conv1D, MaxPooling1D, GlobalAveragePooling1D\n",
        "\n",
        "model = tf.keras.models.Sequential([\n",
        "  tf.keras.Input(shape=(32)),\n",
        "  tf.keras.layers.Dense(1024, activation='relu'),\n",
        "  #tf.keras.layers.Dropout(0.5),\n",
        "  tf.keras.layers.Dense(512,activation='relu'),\n",
        "  tf.keras.layers.Dense(5,activation=\"softmax\")\n",
        "])"
      ],
      "execution_count": 54,
      "outputs": []
    },
    {
      "cell_type": "markdown",
      "metadata": {
        "id": "YddwJ60jic14"
      },
      "source": [
        "cnn1d"
      ]
    },
    {
      "cell_type": "code",
      "metadata": {
        "id": "cvUdNqlKAu0X"
      },
      "source": [
        "import tensorflow as tf\n",
        "from tensorflow.keras.datasets import mnist\n",
        "from tensorflow.keras.models import Sequential\n",
        "from tensorflow.keras.layers import Dense\n",
        "from tensorflow.keras.utils import to_categorical\n",
        "\n",
        "from tensorflow.keras.layers import Dropout, Activation, Flatten, Conv1D, MaxPooling1D, GlobalAveragePooling1D\n",
        "\n",
        "model = Sequential()\n",
        "\n",
        "model.add(Conv1D(filters=64, kernel_size=3, padding='same', activation='relu',input_shape=(8,4)))\n",
        "model.add(Conv1D(filters=128, kernel_size=3, padding='same', activation='relu',input_shape=(8,4)))\n",
        "model.add(Conv1D(filters=256, kernel_size=3, padding='same', activation='relu',input_shape=(8,4)))\n",
        "\n",
        "model.add(GlobalAveragePooling1D())\n",
        "model.add(Dropout(0.5))\n",
        "\n",
        "model.add(Dense(256,activation='relu'))\n",
        "\n",
        "model.add(Dropout(0.5))\n",
        "\n",
        "model.add(Dense(256,activation='relu'))\n",
        "\n",
        "\n",
        "model.add(Dense(5))\n",
        "model.add(Activation('softmax'))"
      ],
      "execution_count": null,
      "outputs": []
    },
    {
      "cell_type": "markdown",
      "metadata": {
        "id": "YD-DIMfFifcl"
      },
      "source": [
        "cnn2d"
      ]
    },
    {
      "cell_type": "code",
      "metadata": {
        "id": "o7eQ80iVie6M"
      },
      "source": [
        "import tensorflow as tf\n",
        "from tensorflow.keras.datasets import mnist\n",
        "from tensorflow.keras.models import Sequential\n",
        "from tensorflow.keras.layers import Dense\n",
        "from tensorflow.keras.utils import to_categorical\n",
        "\n",
        "from tensorflow.keras.layers import Dropout, Activation, Flatten, Conv2D, MaxPooling2D, GlobalAveragePooling2D\n",
        "\n",
        "\n",
        "model = tf.keras.Sequential()\n",
        "\n",
        "model.add(Conv2D(64, (3, 3), activation='relu', input_shape=(5, 5, 32)))\n",
        "model.add(MaxPooling2D(pool_size=(2,2)))\n",
        "\n",
        "model.add(Conv2D(128, (1, 1), activation='relu'))\n",
        "model.add(MaxPooling2D(pool_size=(1,1)))\n",
        "\n",
        "model.add(Conv2D(256, (1, 1), activation='relu'))\n",
        "model.add(MaxPooling2D(pool_size=(1,1)))\n",
        " \n",
        "\n",
        "model.add(Dropout(0.2))\n",
        "\n",
        "model.add(Dense(256, activation='relu'))\n",
        "model.add(Dropout(0.1))\n",
        "\n",
        "model.add(tf.keras.layers.Dense(5, activation='softmax'))"
      ],
      "execution_count": null,
      "outputs": []
    },
    {
      "cell_type": "code",
      "metadata": {
        "id": "jhhSzQvSFALk",
        "colab": {
          "base_uri": "https://localhost:8080/"
        },
        "outputId": "da347655-c36d-4927-e44d-e83dd076a884"
      },
      "source": [
        "# Afficher votre modèle\n",
        "model.summary()"
      ],
      "execution_count": 55,
      "outputs": [
        {
          "output_type": "stream",
          "text": [
            "Model: \"sequential_4\"\n",
            "_________________________________________________________________\n",
            "Layer (type)                 Output Shape              Param #   \n",
            "=================================================================\n",
            "dense_12 (Dense)             (None, 1024)              33792     \n",
            "_________________________________________________________________\n",
            "dense_13 (Dense)             (None, 512)               524800    \n",
            "_________________________________________________________________\n",
            "dense_14 (Dense)             (None, 5)                 2565      \n",
            "=================================================================\n",
            "Total params: 561,157\n",
            "Trainable params: 561,157\n",
            "Non-trainable params: 0\n",
            "_________________________________________________________________\n"
          ],
          "name": "stdout"
        }
      ]
    },
    {
      "cell_type": "markdown",
      "metadata": {
        "id": "f2ksSpJGF1gP"
      },
      "source": [
        "### **Compiler votre modèle en définissant une fonction de côut, un optmiseur et une métrique**\n",
        "\n",
        "Dans le cas d'une classification multi-classe, votre fonction de coût est la cross entropy catégorique. $Adam$ est un bon optimiseur de départ pour vos projets. Ici vous pouvez surveiller la métrique $Accuracy$. Pour la fonction de coût (loss), je n'utilse pas l'argument $from\\_logits=True$ car j'ai déjà activé la couche de sortie avec une fonction Softmax"
      ]
    },
    {
      "cell_type": "code",
      "metadata": {
        "id": "qtwtaGndG7UN"
      },
      "source": [
        "model.compile(optimizer='adam',loss=tf.keras.losses.SparseCategoricalCrossentropy(), metrics=['acc'])"
      ],
      "execution_count": 56,
      "outputs": []
    },
    {
      "cell_type": "markdown",
      "metadata": {
        "id": "aLKCHopeIIet"
      },
      "source": [
        "### **Définir un callback pour sauver les poids de votre modèle sur les meilleures époque c'est à dire les moments où il s'améliorera sur le jeu de validation**"
      ]
    },
    {
      "cell_type": "code",
      "metadata": {
        "id": "X-_N87DhIH5N"
      },
      "source": [
        "Path('my_model').mkdir(exist_ok=True, parents=True)\n",
        "checkpointpath = os.path.join('my_model','model') # chemin où sauver le modèle\n",
        "callbacks = [tf.keras.callbacks.ModelCheckpoint(\n",
        "              checkpointpath,\n",
        "              verbose=1, # niveau de log\n",
        "              monitor='val_acc', # nom de la métrique à surveiller\n",
        "              save_best_only=True, # sauver uniquement le meilleur modèle\n",
        "              save_weights_only=True)] # sauver uniquement les poids"
      ],
      "execution_count": 57,
      "outputs": []
    },
    {
      "cell_type": "markdown",
      "metadata": {
        "id": "ozHZJ2CZH72X"
      },
      "source": [
        "### **Entraîner votre modèle pour un certain nombre d'époques**\n",
        "\n",
        "Le paramètre $validation\\_data$ vous permet de spécifier des données de validation et de votre le comportement de votre modèle sur un jeu indépendant dont il n'a pas la connaissance. \n",
        "\n",
        "La taille de batch ($batch\\_size$) correspond au nombre d'échantillons sur lesquels le modèle est entraîné à la fois sur une époque. Vous pouvez le mettre à (ex. 32, 64, 128, 256) et plus il est grand ce qui requiert d'avoir de la mémoire plus le temps d'exécution d'une époque sera court\n",
        "\n",
        "J'utilise les labels encodés entre 0 et 4 car la prédiction sur les distributions de probabilités du modèle est retournée avec un argmax"
      ]
    },
    {
      "cell_type": "code",
      "metadata": {
        "id": "7o7fK_sd7Ptd",
        "colab": {
          "base_uri": "https://localhost:8080/"
        },
        "outputId": "7e634303-d736-459a-a446-626e881370d8"
      },
      "source": [
        "valid_X.shape\n"
      ],
      "execution_count": null,
      "outputs": [
        {
          "output_type": "execute_result",
          "data": {
            "text/plain": [
              "(153469, 32)"
            ]
          },
          "metadata": {
            "tags": []
          },
          "execution_count": 189
        }
      ]
    },
    {
      "cell_type": "code",
      "metadata": {
        "id": "8WpxHz3FJuJ6",
        "colab": {
          "base_uri": "https://localhost:8080/"
        },
        "outputId": "17e5b541-ed47-45a5-98c5-c321f7f3d4e2"
      },
      "source": [
        "BATCH_SIZE = 256\n",
        "EPOCHS = 20\n",
        "\n",
        "history = model.fit (train_X, train_y_enc, validation_data=(valid_X,valid_y_enc), batch_size=BATCH_SIZE, epochs=EPOCHS, callbacks=callbacks)"
      ],
      "execution_count": 58,
      "outputs": [
        {
          "output_type": "stream",
          "text": [
            "Epoch 1/20\n",
            "1764/1766 [============================>.] - ETA: 0s - loss: 0.3635 - acc: 0.8775\n",
            "Epoch 00001: val_acc improved from -inf to 0.89494, saving model to my_model/model\n",
            "1766/1766 [==============================] - 38s 21ms/step - loss: 0.3634 - acc: 0.8775 - val_loss: 0.2815 - val_acc: 0.8949\n",
            "Epoch 2/20\n",
            "1766/1766 [==============================] - ETA: 0s - loss: 0.2692 - acc: 0.9059\n",
            "Epoch 00002: val_acc did not improve from 0.89494\n",
            "1766/1766 [==============================] - 37s 21ms/step - loss: 0.2692 - acc: 0.9059 - val_loss: 0.3097 - val_acc: 0.8852\n",
            "Epoch 3/20\n",
            "1764/1766 [============================>.] - ETA: 0s - loss: 0.2428 - acc: 0.9148\n",
            "Epoch 00003: val_acc did not improve from 0.89494\n",
            "1766/1766 [==============================] - 38s 21ms/step - loss: 0.2428 - acc: 0.9148 - val_loss: 0.3098 - val_acc: 0.8891\n",
            "Epoch 4/20\n",
            "1766/1766 [==============================] - ETA: 0s - loss: 0.2260 - acc: 0.9208\n",
            "Epoch 00004: val_acc improved from 0.89494 to 0.90096, saving model to my_model/model\n",
            "1766/1766 [==============================] - 37s 21ms/step - loss: 0.2260 - acc: 0.9208 - val_loss: 0.2767 - val_acc: 0.9010\n",
            "Epoch 5/20\n",
            "1765/1766 [============================>.] - ETA: 0s - loss: 0.2125 - acc: 0.9255\n",
            "Epoch 00005: val_acc did not improve from 0.90096\n",
            "1766/1766 [==============================] - 37s 21ms/step - loss: 0.2125 - acc: 0.9255 - val_loss: 0.2857 - val_acc: 0.8996\n",
            "Epoch 6/20\n",
            "1764/1766 [============================>.] - ETA: 0s - loss: 0.2004 - acc: 0.9297\n",
            "Epoch 00006: val_acc did not improve from 0.90096\n",
            "1766/1766 [==============================] - 37s 21ms/step - loss: 0.2003 - acc: 0.9297 - val_loss: 0.2905 - val_acc: 0.8969\n",
            "Epoch 7/20\n",
            "1765/1766 [============================>.] - ETA: 0s - loss: 0.1895 - acc: 0.9330\n",
            "Epoch 00007: val_acc did not improve from 0.90096\n",
            "1766/1766 [==============================] - 38s 21ms/step - loss: 0.1896 - acc: 0.9330 - val_loss: 0.2999 - val_acc: 0.8960\n",
            "Epoch 8/20\n",
            "1766/1766 [==============================] - ETA: 0s - loss: 0.1801 - acc: 0.9362\n",
            "Epoch 00008: val_acc did not improve from 0.90096\n",
            "1766/1766 [==============================] - 38s 21ms/step - loss: 0.1801 - acc: 0.9362 - val_loss: 0.3185 - val_acc: 0.8912\n",
            "Epoch 9/20\n",
            "1765/1766 [============================>.] - ETA: 0s - loss: 0.1715 - acc: 0.9394\n",
            "Epoch 00009: val_acc did not improve from 0.90096\n",
            "1766/1766 [==============================] - 38s 21ms/step - loss: 0.1715 - acc: 0.9394 - val_loss: 0.2957 - val_acc: 0.8960\n",
            "Epoch 10/20\n",
            "1765/1766 [============================>.] - ETA: 0s - loss: 0.1643 - acc: 0.9418\n",
            "Epoch 00010: val_acc did not improve from 0.90096\n",
            "1766/1766 [==============================] - 38s 21ms/step - loss: 0.1644 - acc: 0.9418 - val_loss: 0.3307 - val_acc: 0.8907\n",
            "Epoch 11/20\n",
            "1764/1766 [============================>.] - ETA: 0s - loss: 0.1567 - acc: 0.9442\n",
            "Epoch 00011: val_acc did not improve from 0.90096\n",
            "1766/1766 [==============================] - 38s 21ms/step - loss: 0.1567 - acc: 0.9443 - val_loss: 0.3241 - val_acc: 0.8925\n",
            "Epoch 12/20\n",
            "1766/1766 [==============================] - ETA: 0s - loss: 0.1508 - acc: 0.9467\n",
            "Epoch 00012: val_acc did not improve from 0.90096\n",
            "1766/1766 [==============================] - 37s 21ms/step - loss: 0.1508 - acc: 0.9467 - val_loss: 0.3403 - val_acc: 0.8936\n",
            "Epoch 13/20\n",
            "1766/1766 [==============================] - ETA: 0s - loss: 0.1451 - acc: 0.9484\n",
            "Epoch 00013: val_acc did not improve from 0.90096\n",
            "1766/1766 [==============================] - 37s 21ms/step - loss: 0.1451 - acc: 0.9484 - val_loss: 0.3611 - val_acc: 0.8864\n",
            "Epoch 14/20\n",
            "1766/1766 [==============================] - ETA: 0s - loss: 0.1406 - acc: 0.9500\n",
            "Epoch 00014: val_acc did not improve from 0.90096\n",
            "1766/1766 [==============================] - 37s 21ms/step - loss: 0.1406 - acc: 0.9500 - val_loss: 0.3518 - val_acc: 0.8906\n",
            "Epoch 15/20\n",
            "1766/1766 [==============================] - ETA: 0s - loss: 0.1357 - acc: 0.9516\n",
            "Epoch 00015: val_acc did not improve from 0.90096\n",
            "1766/1766 [==============================] - 38s 21ms/step - loss: 0.1357 - acc: 0.9516 - val_loss: 0.3426 - val_acc: 0.8983\n",
            "Epoch 16/20\n",
            "1765/1766 [============================>.] - ETA: 0s - loss: 0.1326 - acc: 0.9527\n",
            "Epoch 00016: val_acc did not improve from 0.90096\n",
            "1766/1766 [==============================] - 38s 21ms/step - loss: 0.1326 - acc: 0.9527 - val_loss: 0.3662 - val_acc: 0.8909\n",
            "Epoch 17/20\n",
            "1766/1766 [==============================] - ETA: 0s - loss: 0.1276 - acc: 0.9546\n",
            "Epoch 00017: val_acc did not improve from 0.90096\n",
            "1766/1766 [==============================] - 38s 21ms/step - loss: 0.1276 - acc: 0.9546 - val_loss: 0.3853 - val_acc: 0.8896\n",
            "Epoch 18/20\n",
            "1765/1766 [============================>.] - ETA: 0s - loss: 0.1237 - acc: 0.9557\n",
            "Epoch 00018: val_acc did not improve from 0.90096\n",
            "1766/1766 [==============================] - 38s 22ms/step - loss: 0.1237 - acc: 0.9557 - val_loss: 0.3653 - val_acc: 0.8887\n",
            "Epoch 19/20\n",
            "1765/1766 [============================>.] - ETA: 0s - loss: 0.1207 - acc: 0.9573\n",
            "Epoch 00019: val_acc did not improve from 0.90096\n",
            "1766/1766 [==============================] - 38s 22ms/step - loss: 0.1207 - acc: 0.9573 - val_loss: 0.3719 - val_acc: 0.8950\n",
            "Epoch 20/20\n",
            "1766/1766 [==============================] - ETA: 0s - loss: 0.1166 - acc: 0.9584\n",
            "Epoch 00020: val_acc did not improve from 0.90096\n",
            "1766/1766 [==============================] - 38s 22ms/step - loss: 0.1166 - acc: 0.9584 - val_loss: 0.3666 - val_acc: 0.8958\n"
          ],
          "name": "stdout"
        }
      ]
    },
    {
      "cell_type": "markdown",
      "metadata": {
        "id": "4C_OGTGLu_o2"
      },
      "source": [
        "Evolution de training et validation Loss"
      ]
    },
    {
      "cell_type": "code",
      "metadata": {
        "colab": {
          "base_uri": "https://localhost:8080/",
          "height": 295
        },
        "id": "LCS2DsX3k07s",
        "outputId": "4e87e6c6-b57a-4c2a-b1f6-500eb7e2462a"
      },
      "source": [
        "from matplotlib import pyplot as plt\n",
        "plt.style.use('dark_background')\n",
        "\n",
        "loss = history.history['loss']\n",
        "val_loss = history.history['val_loss']\n",
        "epochs = range(1, len(loss) + 1)\n",
        "plt.plot(epochs, loss, 'y', label='Training loss')\n",
        "plt.plot(epochs, val_loss, 'r', label='Validation loss')\n",
        "plt.title('Training and validation loss')\n",
        "plt.xlabel('Epochs')\n",
        "plt.ylabel('Loss')\n",
        "plt.legend()\n",
        "plt.show()\n"
      ],
      "execution_count": 59,
      "outputs": [
        {
          "output_type": "display_data",
          "data": {
            "image/png": "[encoded data removed]",
            "text/plain": [
              "<Figure size 432x288 with 1 Axes>"
            ]
          },
          "metadata": {
            "tags": []
          }
        }
      ]
    },
    {
      "cell_type": "markdown",
      "metadata": {
        "id": "_6rAdqQQ03PD"
      },
      "source": [
        "Evolution de training accuracy et validation accuracy"
      ]
    },
    {
      "cell_type": "code",
      "metadata": {
        "colab": {
          "base_uri": "https://localhost:8080/",
          "height": 295
        },
        "id": "QhPJ2CpKqJo_",
        "outputId": "278ad43c-8cf5-4873-a138-197897d6ae9a"
      },
      "source": [
        "acc = history.history['acc']\n",
        "val_acc = history.history['val_acc']\n",
        "plt.plot(epochs, acc, 'y', label='Training acc')\n",
        "plt.plot(epochs, val_acc, 'r', label='Validation acc')\n",
        "plt.title('Training and validation accuracy')\n",
        "plt.xlabel('Epochs')\n",
        "plt.ylabel('Accuracy')\n",
        "plt.legend()\n",
        "plt.show()"
      ],
      "execution_count": 53,
      "outputs": [
        {
          "output_type": "display_data",
          "data": {
            "image/png": "[encoded data removed]",
            "text/plain": [
              "<Figure size 432x288 with 1 Axes>"
            ]
          },
          "metadata": {
            "tags": []
          }
        }
      ]
    },
    {
      "cell_type": "markdown",
      "metadata": {
        "id": "n8LxITTsM856"
      },
      "source": [
        "### **Restaurer les poids du modèle sur la meilleure époque d'entraînement**"
      ]
    },
    {
      "cell_type": "code",
      "metadata": {
        "id": "l1F4KMnnMz3d",
        "colab": {
          "base_uri": "https://localhost:8080/"
        },
        "outputId": "7fa07abc-00fa-4315-f921-34e6f96c3ef1"
      },
      "source": [
        "model.load_weights(checkpointpath)\n",
        "# S'assurer que c'est bien le meilleur modèle sur les époques d'entraînement\n",
        "model.evaluate(valid_X,valid_y_enc,batch_size=256)"
      ],
      "execution_count": null,
      "outputs": [
        {
          "output_type": "stream",
          "text": [
            "600/600 [==============================] - 4s 7ms/step - loss: 0.2667 - acc: 0.9072\n"
          ],
          "name": "stdout"
        },
        {
          "output_type": "execute_result",
          "data": {
            "text/plain": [
              "[0.26666510105133057, 0.9072125554084778]"
            ]
          },
          "metadata": {
            "tags": []
          },
          "execution_count": 158
        }
      ]
    },
    {
      "cell_type": "markdown",
      "metadata": {
        "id": "Zh14_LtSPCqB"
      },
      "source": [
        "### **Prédiction des classes sur le jeu de validation et évaluation en aggrégeant au niveau objet**"
      ]
    },
    {
      "cell_type": "code",
      "metadata": {
        "id": "zDpjyx_JPNjv",
        "colab": {
          "base_uri": "https://localhost:8080/"
        },
        "outputId": "1f64e408-46fa-4e32-b70a-0f1f9093dfce"
      },
      "source": [
        "# Récupérer les probabilités prédites sur le jeu de validation\n",
        "valid_prob = model.predict(valid_X,batch_size=256)\n",
        "valid_prob.shape"
      ],
      "execution_count": null,
      "outputs": [
        {
          "output_type": "execute_result",
          "data": {
            "text/plain": [
              "(153469, 5)"
            ]
          },
          "metadata": {
            "tags": []
          },
          "execution_count": 159
        }
      ]
    },
    {
      "cell_type": "code",
      "metadata": {
        "id": "26YozrngPZyW",
        "colab": {
          "base_uri": "https://localhost:8080/"
        },
        "outputId": "484eaad6-aa43-4662-d339-a52920d7d623"
      },
      "source": [
        "# Retourner la classe correspondant à la probabilité la plus haute\n",
        "valid_pred = np.argmax(valid_prob,axis=1) # axe 1 car ceci concerne chaque ligne\n",
        "valid_pred.shape"
      ],
      "execution_count": null,
      "outputs": [
        {
          "output_type": "execute_result",
          "data": {
            "text/plain": [
              "(153469,)"
            ]
          },
          "metadata": {
            "tags": []
          },
          "execution_count": 160
        }
      ]
    },
    {
      "cell_type": "code",
      "metadata": {
        "id": "57Fyn2eyWU3w",
        "colab": {
          "base_uri": "https://localhost:8080/"
        },
        "outputId": "05c3e322-e9b3-4781-a24e-fbe8f58a17bf"
      },
      "source": [
        "# Je réencode les prédictions entre 1 et 5\n",
        "valid_pred_enc = encoder.inverse_transform(valid_pred)\n",
        "np.unique(valid_pred_enc)"
      ],
      "execution_count": null,
      "outputs": [
        {
          "output_type": "execute_result",
          "data": {
            "text/plain": [
              "array([1, 2, 3, 4, 5], dtype=uint8)"
            ]
          },
          "metadata": {
            "tags": []
          },
          "execution_count": 161
        }
      ]
    },
    {
      "cell_type": "code",
      "metadata": {
        "id": "z35nADR_P-ut",
        "colab": {
          "base_uri": "https://localhost:8080/"
        },
        "outputId": "a700ab3b-f89a-4902-b338-6cac31f974ef"
      },
      "source": [
        "# Aggrégation au niveau objet\n",
        "out_pred = []\n",
        "unique_id = np.unique(valid_id)\n",
        "for ID in unique_id :\n",
        "    # Récupérer les prédictions des pixels appartenant au même objet\n",
        "    pred = valid_pred_enc[np.where(valid_id==ID)]\n",
        "    y_true = valid_y[np.where(valid_id==ID)]\n",
        "    # Prendre la valeur majoritaire des prédictions sur les pixels\n",
        "    out_pred.append([ np.bincount(y_true).argmax(), np.bincount(pred).argmax()]) #(Vérité terrain,Prédiction majoritaire)\n",
        "out_pred = np.vstack(out_pred)\n",
        "out_pred.shape"
      ],
      "execution_count": null,
      "outputs": [
        {
          "output_type": "execute_result",
          "data": {
            "text/plain": [
              "(558, 2)"
            ]
          },
          "metadata": {
            "tags": []
          },
          "execution_count": 162
        }
      ]
    },
    {
      "cell_type": "code",
      "metadata": {
        "id": "hQ2jDDDZWsKQ",
        "colab": {
          "base_uri": "https://localhost:8080/"
        },
        "outputId": "bcab2e99-1241-4f8b-8247-9bd0b390c31b"
      },
      "source": [
        "# F1 score au niveau objet\n",
        "f1_score(out_pred[:,0],out_pred[:,1],average='weighted')"
      ],
      "execution_count": null,
      "outputs": [
        {
          "output_type": "execute_result",
          "data": {
            "text/plain": [
              "0.8630227315538317"
            ]
          },
          "metadata": {
            "tags": []
          },
          "execution_count": 163
        }
      ]
    },
    {
      "cell_type": "markdown",
      "metadata": {
        "id": "zIXYledyW9QI"
      },
      "source": [
        "### **Prédire sur le jeu test et Préparer une soumission**"
      ]
    },
    {
      "cell_type": "code",
      "metadata": {
        "id": "p--sBOPKW4SE",
        "colab": {
          "base_uri": "https://localhost:8080/"
        },
        "outputId": "6059b5ab-659b-4774-ebb7-1e1e98435083"
      },
      "source": [
        "# Récupérer les probabilités prédites sur le jeu test\n",
        "test_prob = model.predict(test_X,batch_size=256)\n",
        "test_prob.shape"
      ],
      "execution_count": null,
      "outputs": [
        {
          "output_type": "execute_result",
          "data": {
            "text/plain": [
              "(207485, 5)"
            ]
          },
          "metadata": {
            "tags": []
          },
          "execution_count": 164
        }
      ]
    },
    {
      "cell_type": "code",
      "metadata": {
        "id": "QtI8FHPyXHF1",
        "colab": {
          "base_uri": "https://localhost:8080/"
        },
        "outputId": "fee5e556-5b94-4d88-b0d1-81c7aded2cc4"
      },
      "source": [
        "# Retourner la classe correspondant à la probabilité la plus haute\n",
        "test_pred = np.argmax(test_prob,axis=1) # axe 1 car ceci concerne chaque ligne\n",
        "test_pred.shape"
      ],
      "execution_count": null,
      "outputs": [
        {
          "output_type": "execute_result",
          "data": {
            "text/plain": [
              "(207485,)"
            ]
          },
          "metadata": {
            "tags": []
          },
          "execution_count": 165
        }
      ]
    },
    {
      "cell_type": "code",
      "metadata": {
        "id": "V4xPl0mFXNEi",
        "colab": {
          "base_uri": "https://localhost:8080/"
        },
        "outputId": "a0d9abb3-a9da-44ef-84f4-c3a12df731ab"
      },
      "source": [
        "# Je réencode les prédictions entre 1 et 5\n",
        "test_pred_enc = encoder.inverse_transform(test_pred)\n",
        "np.unique(test_pred_enc)"
      ],
      "execution_count": null,
      "outputs": [
        {
          "output_type": "execute_result",
          "data": {
            "text/plain": [
              "array([1, 2, 3, 4, 5], dtype=uint8)"
            ]
          },
          "metadata": {
            "tags": []
          },
          "execution_count": 166
        }
      ]
    },
    {
      "cell_type": "code",
      "metadata": {
        "id": "khjM1qqMXTSY",
        "colab": {
          "base_uri": "https://localhost:8080/"
        },
        "outputId": "4d48a9ff-8a0c-46cd-ad5e-3d7a2fe71c35"
      },
      "source": [
        "# Aggrégation au niveau objet\n",
        "agg_pred = []\n",
        "unique_id = np.unique(test_id)\n",
        "for ID in unique_id :\n",
        "    # Récupérer les prédictions des pixels appartenant au même objet\n",
        "    pred = test_pred_enc[np.where(test_id==ID)]\n",
        "    # Prendre la valeur majoritaire des prédictions sur les pixels\n",
        "    agg_pred.append([ ID, np.bincount(pred).argmax()]) #(ID,Prédiction majoritaire)\n",
        "agg_pred = np.vstack(agg_pred)\n",
        "agg_pred.shape"
      ],
      "execution_count": null,
      "outputs": [
        {
          "output_type": "execute_result",
          "data": {
            "text/plain": [
              "(800, 2)"
            ]
          },
          "metadata": {
            "tags": []
          },
          "execution_count": 167
        }
      ]
    },
    {
      "cell_type": "code",
      "metadata": {
        "id": "ZIdn628cEtgx",
        "colab": {
          "base_uri": "https://localhost:8080/",
          "height": 204
        },
        "outputId": "68d66fa0-c237-4ef6-9f2d-b5db6fb71d52"
      },
      "source": [
        "df = pd.DataFrame({'ID':agg_pred[:,0],'Class':agg_pred[:,1]})\n",
        "df.to_csv('Soumission_NaidjaYoussefDiabateLight2.csv',index=False)\n",
        "df.head(5)"
      ],
      "execution_count": null,
      "outputs": [
        {
          "output_type": "execute_result",
          "data": {
            "text/html": [
              "<div>\n",
              "<style scoped>\n",
              "    .dataframe tbody tr th:only-of-type {\n",
              "        vertical-align: middle;\n",
              "    }\n",
              "\n",
              "    .dataframe tbody tr th {\n",
              "        vertical-align: top;\n",
              "    }\n",
              "\n",
              "    .dataframe thead th {\n",
              "        text-align: right;\n",
              "    }\n",
              "</style>\n",
              "<table border=\"1\" class=\"dataframe\">\n",
              "  <thead>\n",
              "    <tr style=\"text-align: right;\">\n",
              "      <th></th>\n",
              "      <th>ID</th>\n",
              "      <th>Class</th>\n",
              "    </tr>\n",
              "  </thead>\n",
              "  <tbody>\n",
              "    <tr>\n",
              "      <th>0</th>\n",
              "      <td>4</td>\n",
              "      <td>5</td>\n",
              "    </tr>\n",
              "    <tr>\n",
              "      <th>1</th>\n",
              "      <td>7</td>\n",
              "      <td>3</td>\n",
              "    </tr>\n",
              "    <tr>\n",
              "      <th>2</th>\n",
              "      <td>8</td>\n",
              "      <td>5</td>\n",
              "    </tr>\n",
              "    <tr>\n",
              "      <th>3</th>\n",
              "      <td>9</td>\n",
              "      <td>3</td>\n",
              "    </tr>\n",
              "    <tr>\n",
              "      <th>4</th>\n",
              "      <td>10</td>\n",
              "      <td>3</td>\n",
              "    </tr>\n",
              "  </tbody>\n",
              "</table>\n",
              "</div>"
            ],
            "text/plain": [
              "   ID  Class\n",
              "0   4      5\n",
              "1   7      3\n",
              "2   8      5\n",
              "3   9      3\n",
              "4  10      3"
            ]
          },
          "metadata": {
            "tags": []
          },
          "execution_count": 168
        }
      ]
    },
    {
      "cell_type": "code",
      "metadata": {
        "id": "s6WuuJCkXsu0",
        "colab": {
          "base_uri": "https://localhost:8080/"
        },
        "outputId": "0b136f05-6206-49e6-e211-e487f4c9d7c3"
      },
      "source": [
        "# F1 Score au niveau objet\n",
        "df_test = pd.read_csv('Test_ID_Label.csv') # Ce fichier vous sera fourni le 12 Novembre\n",
        "f1_score(df_test.Class,df.Class,average='weighted')"
      ],
      "execution_count": null,
      "outputs": [
        {
          "output_type": "execute_result",
          "data": {
            "text/plain": [
              "0.8342230160496413"
            ]
          },
          "metadata": {
            "tags": []
          },
          "execution_count": 169
        }
      ]
    }
  ]
}